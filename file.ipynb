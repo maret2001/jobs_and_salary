{
 "cells": [
  {
   "cell_type": "markdown",
   "metadata": {},
   "source": [
    "## Ignasius Maret Ismoyo"
   ]
  },
  {
   "cell_type": "markdown",
   "metadata": {},
   "source": [
    "## -----------------------------------------------\n",
    "## Import Library"
   ]
  },
  {
   "cell_type": "code",
   "execution_count": 1,
   "metadata": {},
   "outputs": [],
   "source": [
    "import pandas as pd\n",
    "import matplotlib.pyplot as plt\n",
    "import seaborn as sns\n",
    "import plotly.express as px\n",
    "%matplotlib inline\n",
    "import warnings\n",
    "warnings.filterwarnings(\"ignore\")"
   ]
  },
  {
   "cell_type": "markdown",
   "metadata": {},
   "source": [
    "## -----------------------------------------------\n",
    "## Upload File"
   ]
  },
  {
   "cell_type": "code",
   "execution_count": 2,
   "metadata": {},
   "outputs": [
    {
     "data": {
      "text/html": [
       "<div>\n",
       "<style scoped>\n",
       "    .dataframe tbody tr th:only-of-type {\n",
       "        vertical-align: middle;\n",
       "    }\n",
       "\n",
       "    .dataframe tbody tr th {\n",
       "        vertical-align: top;\n",
       "    }\n",
       "\n",
       "    .dataframe thead th {\n",
       "        text-align: right;\n",
       "    }\n",
       "</style>\n",
       "<table border=\"1\" class=\"dataframe\">\n",
       "  <thead>\n",
       "    <tr style=\"text-align: right;\">\n",
       "      <th></th>\n",
       "      <th>work_year</th>\n",
       "      <th>job_title</th>\n",
       "      <th>job_category</th>\n",
       "      <th>salary_currency</th>\n",
       "      <th>salary</th>\n",
       "      <th>salary_in_usd</th>\n",
       "      <th>employee_residence</th>\n",
       "      <th>experience_level</th>\n",
       "      <th>employment_type</th>\n",
       "      <th>work_setting</th>\n",
       "      <th>company_location</th>\n",
       "      <th>company_size</th>\n",
       "    </tr>\n",
       "  </thead>\n",
       "  <tbody>\n",
       "    <tr>\n",
       "      <th>0</th>\n",
       "      <td>2023</td>\n",
       "      <td>Data DevOps Engineer</td>\n",
       "      <td>Data Engineering</td>\n",
       "      <td>EUR</td>\n",
       "      <td>88000</td>\n",
       "      <td>95012</td>\n",
       "      <td>Germany</td>\n",
       "      <td>Mid-level</td>\n",
       "      <td>Full-time</td>\n",
       "      <td>Hybrid</td>\n",
       "      <td>Germany</td>\n",
       "      <td>L</td>\n",
       "    </tr>\n",
       "    <tr>\n",
       "      <th>1</th>\n",
       "      <td>2023</td>\n",
       "      <td>Data Architect</td>\n",
       "      <td>Data Architecture and Modeling</td>\n",
       "      <td>USD</td>\n",
       "      <td>186000</td>\n",
       "      <td>186000</td>\n",
       "      <td>United States</td>\n",
       "      <td>Senior</td>\n",
       "      <td>Full-time</td>\n",
       "      <td>In-person</td>\n",
       "      <td>United States</td>\n",
       "      <td>M</td>\n",
       "    </tr>\n",
       "    <tr>\n",
       "      <th>2</th>\n",
       "      <td>2023</td>\n",
       "      <td>Data Architect</td>\n",
       "      <td>Data Architecture and Modeling</td>\n",
       "      <td>USD</td>\n",
       "      <td>81800</td>\n",
       "      <td>81800</td>\n",
       "      <td>United States</td>\n",
       "      <td>Senior</td>\n",
       "      <td>Full-time</td>\n",
       "      <td>In-person</td>\n",
       "      <td>United States</td>\n",
       "      <td>M</td>\n",
       "    </tr>\n",
       "    <tr>\n",
       "      <th>3</th>\n",
       "      <td>2023</td>\n",
       "      <td>Data Scientist</td>\n",
       "      <td>Data Science and Research</td>\n",
       "      <td>USD</td>\n",
       "      <td>212000</td>\n",
       "      <td>212000</td>\n",
       "      <td>United States</td>\n",
       "      <td>Senior</td>\n",
       "      <td>Full-time</td>\n",
       "      <td>In-person</td>\n",
       "      <td>United States</td>\n",
       "      <td>M</td>\n",
       "    </tr>\n",
       "    <tr>\n",
       "      <th>4</th>\n",
       "      <td>2023</td>\n",
       "      <td>Data Scientist</td>\n",
       "      <td>Data Science and Research</td>\n",
       "      <td>USD</td>\n",
       "      <td>93300</td>\n",
       "      <td>93300</td>\n",
       "      <td>United States</td>\n",
       "      <td>Senior</td>\n",
       "      <td>Full-time</td>\n",
       "      <td>In-person</td>\n",
       "      <td>United States</td>\n",
       "      <td>M</td>\n",
       "    </tr>\n",
       "    <tr>\n",
       "      <th>...</th>\n",
       "      <td>...</td>\n",
       "      <td>...</td>\n",
       "      <td>...</td>\n",
       "      <td>...</td>\n",
       "      <td>...</td>\n",
       "      <td>...</td>\n",
       "      <td>...</td>\n",
       "      <td>...</td>\n",
       "      <td>...</td>\n",
       "      <td>...</td>\n",
       "      <td>...</td>\n",
       "      <td>...</td>\n",
       "    </tr>\n",
       "    <tr>\n",
       "      <th>9350</th>\n",
       "      <td>2021</td>\n",
       "      <td>Data Specialist</td>\n",
       "      <td>Data Management and Strategy</td>\n",
       "      <td>USD</td>\n",
       "      <td>165000</td>\n",
       "      <td>165000</td>\n",
       "      <td>United States</td>\n",
       "      <td>Senior</td>\n",
       "      <td>Full-time</td>\n",
       "      <td>Remote</td>\n",
       "      <td>United States</td>\n",
       "      <td>L</td>\n",
       "    </tr>\n",
       "    <tr>\n",
       "      <th>9351</th>\n",
       "      <td>2020</td>\n",
       "      <td>Data Scientist</td>\n",
       "      <td>Data Science and Research</td>\n",
       "      <td>USD</td>\n",
       "      <td>412000</td>\n",
       "      <td>412000</td>\n",
       "      <td>United States</td>\n",
       "      <td>Senior</td>\n",
       "      <td>Full-time</td>\n",
       "      <td>Remote</td>\n",
       "      <td>United States</td>\n",
       "      <td>L</td>\n",
       "    </tr>\n",
       "    <tr>\n",
       "      <th>9352</th>\n",
       "      <td>2021</td>\n",
       "      <td>Principal Data Scientist</td>\n",
       "      <td>Data Science and Research</td>\n",
       "      <td>USD</td>\n",
       "      <td>151000</td>\n",
       "      <td>151000</td>\n",
       "      <td>United States</td>\n",
       "      <td>Mid-level</td>\n",
       "      <td>Full-time</td>\n",
       "      <td>Remote</td>\n",
       "      <td>United States</td>\n",
       "      <td>L</td>\n",
       "    </tr>\n",
       "    <tr>\n",
       "      <th>9353</th>\n",
       "      <td>2020</td>\n",
       "      <td>Data Scientist</td>\n",
       "      <td>Data Science and Research</td>\n",
       "      <td>USD</td>\n",
       "      <td>105000</td>\n",
       "      <td>105000</td>\n",
       "      <td>United States</td>\n",
       "      <td>Entry-level</td>\n",
       "      <td>Full-time</td>\n",
       "      <td>Remote</td>\n",
       "      <td>United States</td>\n",
       "      <td>S</td>\n",
       "    </tr>\n",
       "    <tr>\n",
       "      <th>9354</th>\n",
       "      <td>2020</td>\n",
       "      <td>Business Data Analyst</td>\n",
       "      <td>Data Analysis</td>\n",
       "      <td>USD</td>\n",
       "      <td>100000</td>\n",
       "      <td>100000</td>\n",
       "      <td>United States</td>\n",
       "      <td>Entry-level</td>\n",
       "      <td>Contract</td>\n",
       "      <td>Remote</td>\n",
       "      <td>United States</td>\n",
       "      <td>L</td>\n",
       "    </tr>\n",
       "  </tbody>\n",
       "</table>\n",
       "<p>9355 rows × 12 columns</p>\n",
       "</div>"
      ],
      "text/plain": [
       "      work_year                 job_title                    job_category  \\\n",
       "0          2023      Data DevOps Engineer                Data Engineering   \n",
       "1          2023            Data Architect  Data Architecture and Modeling   \n",
       "2          2023            Data Architect  Data Architecture and Modeling   \n",
       "3          2023            Data Scientist       Data Science and Research   \n",
       "4          2023            Data Scientist       Data Science and Research   \n",
       "...         ...                       ...                             ...   \n",
       "9350       2021           Data Specialist    Data Management and Strategy   \n",
       "9351       2020            Data Scientist       Data Science and Research   \n",
       "9352       2021  Principal Data Scientist       Data Science and Research   \n",
       "9353       2020            Data Scientist       Data Science and Research   \n",
       "9354       2020     Business Data Analyst                   Data Analysis   \n",
       "\n",
       "     salary_currency  salary  salary_in_usd employee_residence  \\\n",
       "0                EUR   88000          95012            Germany   \n",
       "1                USD  186000         186000      United States   \n",
       "2                USD   81800          81800      United States   \n",
       "3                USD  212000         212000      United States   \n",
       "4                USD   93300          93300      United States   \n",
       "...              ...     ...            ...                ...   \n",
       "9350             USD  165000         165000      United States   \n",
       "9351             USD  412000         412000      United States   \n",
       "9352             USD  151000         151000      United States   \n",
       "9353             USD  105000         105000      United States   \n",
       "9354             USD  100000         100000      United States   \n",
       "\n",
       "     experience_level employment_type work_setting company_location  \\\n",
       "0           Mid-level       Full-time       Hybrid          Germany   \n",
       "1              Senior       Full-time    In-person    United States   \n",
       "2              Senior       Full-time    In-person    United States   \n",
       "3              Senior       Full-time    In-person    United States   \n",
       "4              Senior       Full-time    In-person    United States   \n",
       "...               ...             ...          ...              ...   \n",
       "9350           Senior       Full-time       Remote    United States   \n",
       "9351           Senior       Full-time       Remote    United States   \n",
       "9352        Mid-level       Full-time       Remote    United States   \n",
       "9353      Entry-level       Full-time       Remote    United States   \n",
       "9354      Entry-level        Contract       Remote    United States   \n",
       "\n",
       "     company_size  \n",
       "0               L  \n",
       "1               M  \n",
       "2               M  \n",
       "3               M  \n",
       "4               M  \n",
       "...           ...  \n",
       "9350            L  \n",
       "9351            L  \n",
       "9352            L  \n",
       "9353            S  \n",
       "9354            L  \n",
       "\n",
       "[9355 rows x 12 columns]"
      ]
     },
     "execution_count": 2,
     "metadata": {},
     "output_type": "execute_result"
    }
   ],
   "source": [
    "df = pd.read_csv(\"G:\\My Drive\\latihan_coding\\jobs_and_salaries\\jobs_in_data.csv\")\n",
    "df"
   ]
  },
  {
   "cell_type": "markdown",
   "metadata": {},
   "source": [
    "## -----------------------------------------------\n",
    "## Data Exploration"
   ]
  },
  {
   "cell_type": "code",
   "execution_count": 3,
   "metadata": {},
   "outputs": [
    {
     "name": "stdout",
     "output_type": "stream",
     "text": [
      "<class 'pandas.core.frame.DataFrame'>\n",
      "RangeIndex: 9355 entries, 0 to 9354\n",
      "Data columns (total 12 columns):\n",
      " #   Column              Non-Null Count  Dtype \n",
      "---  ------              --------------  ----- \n",
      " 0   work_year           9355 non-null   int64 \n",
      " 1   job_title           9355 non-null   object\n",
      " 2   job_category        9355 non-null   object\n",
      " 3   salary_currency     9355 non-null   object\n",
      " 4   salary              9355 non-null   int64 \n",
      " 5   salary_in_usd       9355 non-null   int64 \n",
      " 6   employee_residence  9355 non-null   object\n",
      " 7   experience_level    9355 non-null   object\n",
      " 8   employment_type     9355 non-null   object\n",
      " 9   work_setting        9355 non-null   object\n",
      " 10  company_location    9355 non-null   object\n",
      " 11  company_size        9355 non-null   object\n",
      "dtypes: int64(3), object(9)\n",
      "memory usage: 877.2+ KB\n"
     ]
    }
   ],
   "source": [
    "df.info()"
   ]
  },
  {
   "cell_type": "code",
   "execution_count": 4,
   "metadata": {},
   "outputs": [
    {
     "name": "stdout",
     "output_type": "stream",
     "text": [
      "Rows = 9355, Columns = 12\n",
      "Total duplicated data = 4014\n",
      "Total NaN values = 0\n",
      "Total Null values = 0\n"
     ]
    }
   ],
   "source": [
    "print(f\"Rows = {df.shape[0]}, Columns = {df.shape[1]}\")\n",
    "print(f\"Total duplicated data = {df.duplicated().sum()}\")\n",
    "print(f\"Total NaN values = {df.isna().sum().sum()}\")\n",
    "print(f\"Total Null values = {df.isnull().sum().sum()}\")"
   ]
  },
  {
   "cell_type": "code",
   "execution_count": 5,
   "metadata": {},
   "outputs": [
    {
     "data": {
      "text/plain": [
       "Index(['work_year', 'job_title', 'job_category', 'salary_currency', 'salary',\n",
       "       'salary_in_usd', 'employee_residence', 'experience_level',\n",
       "       'employment_type', 'work_setting', 'company_location', 'company_size'],\n",
       "      dtype='object')"
      ]
     },
     "execution_count": 5,
     "metadata": {},
     "output_type": "execute_result"
    }
   ],
   "source": [
    "df.columns"
   ]
  },
  {
   "cell_type": "markdown",
   "metadata": {},
   "source": [
    "## -----------------------------------------------\n",
    "## Top 5 Job Titles"
   ]
  },
  {
   "cell_type": "code",
   "execution_count": 6,
   "metadata": {},
   "outputs": [
    {
     "name": "stdout",
     "output_type": "stream",
     "text": [
      "job_title\n",
      "Data Engineer                2195\n",
      "Data Scientist               1989\n",
      "Data Analyst                 1388\n",
      "Machine Learning Engineer     991\n",
      "Applied Scientist             272\n",
      "Name: count, dtype: int64\n"
     ]
    }
   ],
   "source": [
    "job_title = df[\"job_title\"].value_counts().head(5)\n",
    "print(job_title)"
   ]
  },
  {
   "cell_type": "code",
   "execution_count": 7,
   "metadata": {},
   "outputs": [],
   "source": [
    "# fig = px.bar(\n",
    "#     df.job_title.value_counts().head(5).reset_index(name=\"Count\"),\n",
    "#     x=\"job_title\",\n",
    "#     y=\"Count\",\n",
    "#     title=\"Top 10 Job Titles\",\n",
    "#     color=\"job_title\",\n",
    "# )\n",
    "# fig.show()"
   ]
  },
  {
   "cell_type": "code",
   "execution_count": 8,
   "metadata": {},
   "outputs": [
    {
     "data": {
      "text/plain": [
       "Text(0.5, 1.0, 'Top 5 Job Titles')"
      ]
     },
     "execution_count": 8,
     "metadata": {},
     "output_type": "execute_result"
    },
    {
     "data": {
      "image/png": "[encoded data removed]",
      "text/plain": [
       "<Figure size 640x480 with 1 Axes>"
      ]
     },
     "metadata": {},
     "output_type": "display_data"
    }
   ],
   "source": [
    "sns.barplot(\n",
    "    data=df.job_title.value_counts()\n",
    "    .sort_values(ascending=False)\n",
    "    .reset_index(name=\"Count\")\n",
    "    .head(5),\n",
    "    x=\"Count\",\n",
    "    y=\"job_title\",\n",
    ")\n",
    "plt.title(\"Top 5 Job Titles\")"
   ]
  },
  {
   "cell_type": "code",
   "execution_count": 9,
   "metadata": {},
   "outputs": [
    {
     "data": {
      "text/plain": [
       "job_title\n",
       "Analytics Engineering Manager     399880.0\n",
       "Data Science Tech Lead            375000.0\n",
       "Managing Director Data Science    300000.0\n",
       "Head of Machine Learning          259000.0\n",
       "AWS Data Architect                258000.0\n",
       "Name: salary_in_usd, dtype: float64"
      ]
     },
     "execution_count": 9,
     "metadata": {},
     "output_type": "execute_result"
    }
   ],
   "source": [
    "df.groupby(\"job_title\")[\"salary_in_usd\"].mean().sort_values(ascending=False).head(5)"
   ]
  },
  {
   "cell_type": "code",
   "execution_count": 10,
   "metadata": {},
   "outputs": [
    {
     "data": {
      "application/vnd.plotly.v1+json": {
       "config": {
        "plotlyServerURL": "https://plot.ly"
       },
       "data": [
        {
         "alignmentgroup": "True",
         "hovertemplate": "Average Salary=%{marker.color}<br>job_title=%{y}<extra></extra>",
         "legendgroup": "",
         "marker": {
          "color": [
           399880,
           375000,
           300000,
           259000,
           258000
          ],
          "coloraxis": "coloraxis",
          "pattern": {
           "shape": ""
          }
         },
         "name": "",
         "offsetgroup": "",
         "orientation": "h",
         "showlegend": false,
         "textposition": "auto",
         "type": "bar",
         "x": [
          399880,
          375000,
          300000,
          259000,
          258000
         ],
         "xaxis": "x",
         "y": [
          "Analytics Engineering Manager",
          "Data Science Tech Lead",
          "Managing Director Data Science",
          "Head of Machine Learning",
          "AWS Data Architect"
         ],
         "yaxis": "y"
        }
       ],
       "layout": {
        "barmode": "relative",
        "coloraxis": {
         "colorbar": {
          "title": {
           "text": "Average Salary"
          }
         },
         "colorscale": [
          [
           0,
           "#0d0887"
          ],
          [
           0.1111111111111111,
           "#46039f"
          ],
          [
           0.2222222222222222,
           "#7201a8"
          ],
          [
           0.3333333333333333,
           "#9c179e"
          ],
          [
           0.4444444444444444,
           "#bd3786"
          ],
          [
           0.5555555555555556,
           "#d8576b"
          ],
          [
           0.6666666666666666,
           "#ed7953"
          ],
          [
           0.7777777777777778,
           "#fb9f3a"
          ],
          [
           0.8888888888888888,
           "#fdca26"
          ],
          [
           1,
           "#f0f921"
          ]
         ]
        },
        "legend": {
         "tracegroupgap": 0
        },
        "template": {
         "data": {
          "bar": [
           {
            "error_x": {
             "color": "#2a3f5f"
            },
            "error_y": {
             "color": "#2a3f5f"
            },
            "marker": {
             "line": {
              "color": "#E5ECF6",
              "width": 0.5
             },
             "pattern": {
              "fillmode": "overlay",
              "size": 10,
              "solidity": 0.2
             }
            },
            "type": "bar"
           }
          ],
          "barpolar": [
           {
            "marker": {
             "line": {
              "color": "#E5ECF6",
              "width": 0.5
             },
             "pattern": {
              "fillmode": "overlay",
              "size": 10,
              "solidity": 0.2
             }
            },
            "type": "barpolar"
           }
          ],
          "carpet": [
           {
            "aaxis": {
             "endlinecolor": "#2a3f5f",
             "gridcolor": "white",
             "linecolor": "white",
             "minorgridcolor": "white",
             "startlinecolor": "#2a3f5f"
            },
            "baxis": {
             "endlinecolor": "#2a3f5f",
             "gridcolor": "white",
             "linecolor": "white",
             "minorgridcolor": "white",
             "startlinecolor": "#2a3f5f"
            },
            "type": "carpet"
           }
          ],
          "choropleth": [
           {
            "colorbar": {
             "outlinewidth": 0,
             "ticks": ""
            },
            "type": "choropleth"
           }
          ],
          "contour": [
           {
            "colorbar": {
             "outlinewidth": 0,
             "ticks": ""
            },
            "colorscale": [
             [
              0,
              "#0d0887"
             ],
             [
              0.1111111111111111,
              "#46039f"
             ],
             [
              0.2222222222222222,
              "#7201a8"
             ],
             [
              0.3333333333333333,
              "#9c179e"
             ],
             [
              0.4444444444444444,
              "#bd3786"
             ],
             [
              0.5555555555555556,
              "#d8576b"
             ],
             [
              0.6666666666666666,
              "#ed7953"
             ],
             [
              0.7777777777777778,
              "#fb9f3a"
             ],
             [
              0.8888888888888888,
              "#fdca26"
             ],
             [
              1,
              "#f0f921"
             ]
            ],
            "type": "contour"
           }
          ],
          "contourcarpet": [
           {
            "colorbar": {
             "outlinewidth": 0,
             "ticks": ""
            },
            "type": "contourcarpet"
           }
          ],
          "heatmap": [
           {
            "colorbar": {
             "outlinewidth": 0,
             "ticks": ""
            },
            "colorscale": [
             [
              0,
              "#0d0887"
             ],
             [
              0.1111111111111111,
              "#46039f"
             ],
             [
              0.2222222222222222,
              "#7201a8"
             ],
             [
              0.3333333333333333,
              "#9c179e"
             ],
             [
              0.4444444444444444,
              "#bd3786"
             ],
             [
              0.5555555555555556,
              "#d8576b"
             ],
             [
              0.6666666666666666,
              "#ed7953"
             ],
             [
              0.7777777777777778,
              "#fb9f3a"
             ],
             [
              0.8888888888888888,
              "#fdca26"
             ],
             [
              1,
              "#f0f921"
             ]
            ],
            "type": "heatmap"
           }
          ],
          "heatmapgl": [
           {
            "colorbar": {
             "outlinewidth": 0,
             "ticks": ""
            },
            "colorscale": [
             [
              0,
              "#0d0887"
             ],
             [
              0.1111111111111111,
              "#46039f"
             ],
             [
              0.2222222222222222,
              "#7201a8"
             ],
             [
              0.3333333333333333,
              "#9c179e"
             ],
             [
              0.4444444444444444,
              "#bd3786"
             ],
             [
              0.5555555555555556,
              "#d8576b"
             ],
             [
              0.6666666666666666,
              "#ed7953"
             ],
             [
              0.7777777777777778,
              "#fb9f3a"
             ],
             [
              0.8888888888888888,
              "#fdca26"
             ],
             [
              1,
              "#f0f921"
             ]
            ],
            "type": "heatmapgl"
           }
          ],
          "histogram": [
           {
            "marker": {
             "pattern": {
              "fillmode": "overlay",
              "size": 10,
              "solidity": 0.2
             }
            },
            "type": "histogram"
           }
          ],
          "histogram2d": [
           {
            "colorbar": {
             "outlinewidth": 0,
             "ticks": ""
            },
            "colorscale": [
             [
              0,
              "#0d0887"
             ],
             [
              0.1111111111111111,
              "#46039f"
             ],
             [
              0.2222222222222222,
              "#7201a8"
             ],
             [
              0.3333333333333333,
              "#9c179e"
             ],
             [
              0.4444444444444444,
              "#bd3786"
             ],
             [
              0.5555555555555556,
              "#d8576b"
             ],
             [
              0.6666666666666666,
              "#ed7953"
             ],
             [
              0.7777777777777778,
              "#fb9f3a"
             ],
             [
              0.8888888888888888,
              "#fdca26"
             ],
             [
              1,
              "#f0f921"
             ]
            ],
            "type": "histogram2d"
           }
          ],
          "histogram2dcontour": [
           {
            "colorbar": {
             "outlinewidth": 0,
             "ticks": ""
            },
            "colorscale": [
             [
              0,
              "#0d0887"
             ],
             [
              0.1111111111111111,
              "#46039f"
             ],
             [
              0.2222222222222222,
              "#7201a8"
             ],
             [
              0.3333333333333333,
              "#9c179e"
             ],
             [
              0.4444444444444444,
              "#bd3786"
             ],
             [
              0.5555555555555556,
              "#d8576b"
             ],
             [
              0.6666666666666666,
              "#ed7953"
             ],
             [
              0.7777777777777778,
              "#fb9f3a"
             ],
             [
              0.8888888888888888,
              "#fdca26"
             ],
             [
              1,
              "#f0f921"
             ]
            ],
            "type": "histogram2dcontour"
           }
          ],
          "mesh3d": [
           {
            "colorbar": {
             "outlinewidth": 0,
             "ticks": ""
            },
            "type": "mesh3d"
           }
          ],
          "parcoords": [
           {
            "line": {
             "colorbar": {
              "outlinewidth": 0,
              "ticks": ""
             }
            },
            "type": "parcoords"
           }
          ],
          "pie": [
           {
            "automargin": true,
            "type": "pie"
           }
          ],
          "scatter": [
           {
            "fillpattern": {
             "fillmode": "overlay",
             "size": 10,
             "solidity": 0.2
            },
            "type": "scatter"
           }
          ],
          "scatter3d": [
           {
            "line": {
             "colorbar": {
              "outlinewidth": 0,
              "ticks": ""
             }
            },
            "marker": {
             "colorbar": {
              "outlinewidth": 0,
              "ticks": ""
             }
            },
            "type": "scatter3d"
           }
          ],
          "scattercarpet": [
           {
            "marker": {
             "colorbar": {
              "outlinewidth": 0,
              "ticks": ""
             }
            },
            "type": "scattercarpet"
           }
          ],
          "scattergeo": [
           {
            "marker": {
             "colorbar": {
              "outlinewidth": 0,
              "ticks": ""
             }
            },
            "type": "scattergeo"
           }
          ],
          "scattergl": [
           {
            "marker": {
             "colorbar": {
              "outlinewidth": 0,
              "ticks": ""
             }
            },
            "type": "scattergl"
           }
          ],
          "scattermapbox": [
           {
            "marker": {
             "colorbar": {
              "outlinewidth": 0,
              "ticks": ""
             }
            },
            "type": "scattermapbox"
           }
          ],
          "scatterpolar": [
           {
            "marker": {
             "colorbar": {
              "outlinewidth": 0,
              "ticks": ""
             }
            },
            "type": "scatterpolar"
           }
          ],
          "scatterpolargl": [
           {
            "marker": {
             "colorbar": {
              "outlinewidth": 0,
              "ticks": ""
             }
            },
            "type": "scatterpolargl"
           }
          ],
          "scatterternary": [
           {
            "marker": {
             "colorbar": {
              "outlinewidth": 0,
              "ticks": ""
             }
            },
            "type": "scatterternary"
           }
          ],
          "surface": [
           {
            "colorbar": {
             "outlinewidth": 0,
             "ticks": ""
            },
            "colorscale": [
             [
              0,
              "#0d0887"
             ],
             [
              0.1111111111111111,
              "#46039f"
             ],
             [
              0.2222222222222222,
              "#7201a8"
             ],
             [
              0.3333333333333333,
              "#9c179e"
             ],
             [
              0.4444444444444444,
              "#bd3786"
             ],
             [
              0.5555555555555556,
              "#d8576b"
             ],
             [
              0.6666666666666666,
              "#ed7953"
             ],
             [
              0.7777777777777778,
              "#fb9f3a"
             ],
             [
              0.8888888888888888,
              "#fdca26"
             ],
             [
              1,
              "#f0f921"
             ]
            ],
            "type": "surface"
           }
          ],
          "table": [
           {
            "cells": {
             "fill": {
              "color": "#EBF0F8"
             },
             "line": {
              "color": "white"
             }
            },
            "header": {
             "fill": {
              "color": "#C8D4E3"
             },
             "line": {
              "color": "white"
             }
            },
            "type": "table"
           }
          ]
         },
         "layout": {
          "annotationdefaults": {
           "arrowcolor": "#2a3f5f",
           "arrowhead": 0,
           "arrowwidth": 1
          },
          "autotypenumbers": "strict",
          "coloraxis": {
           "colorbar": {
            "outlinewidth": 0,
            "ticks": ""
           }
          },
          "colorscale": {
           "diverging": [
            [
             0,
             "#8e0152"
            ],
            [
             0.1,
             "#c51b7d"
            ],
            [
             0.2,
             "#de77ae"
            ],
            [
             0.3,
             "#f1b6da"
            ],
            [
             0.4,
             "#fde0ef"
            ],
            [
             0.5,
             "#f7f7f7"
            ],
            [
             0.6,
             "#e6f5d0"
            ],
            [
             0.7,
             "#b8e186"
            ],
            [
             0.8,
             "#7fbc41"
            ],
            [
             0.9,
             "#4d9221"
            ],
            [
             1,
             "#276419"
            ]
           ],
           "sequential": [
            [
             0,
             "#0d0887"
            ],
            [
             0.1111111111111111,
             "#46039f"
            ],
            [
             0.2222222222222222,
             "#7201a8"
            ],
            [
             0.3333333333333333,
             "#9c179e"
            ],
            [
             0.4444444444444444,
             "#bd3786"
            ],
            [
             0.5555555555555556,
             "#d8576b"
            ],
            [
             0.6666666666666666,
             "#ed7953"
            ],
            [
             0.7777777777777778,
             "#fb9f3a"
            ],
            [
             0.8888888888888888,
             "#fdca26"
            ],
            [
             1,
             "#f0f921"
            ]
           ],
           "sequentialminus": [
            [
             0,
             "#0d0887"
            ],
            [
             0.1111111111111111,
             "#46039f"
            ],
            [
             0.2222222222222222,
             "#7201a8"
            ],
            [
             0.3333333333333333,
             "#9c179e"
            ],
            [
             0.4444444444444444,
             "#bd3786"
            ],
            [
             0.5555555555555556,
             "#d8576b"
            ],
            [
             0.6666666666666666,
             "#ed7953"
            ],
            [
             0.7777777777777778,
             "#fb9f3a"
            ],
            [
             0.8888888888888888,
             "#fdca26"
            ],
            [
             1,
             "#f0f921"
            ]
           ]
          },
          "colorway": [
           "#636efa",
           "#EF553B",
           "#00cc96",
           "#ab63fa",
           "#FFA15A",
           "#19d3f3",
           "#FF6692",
           "#B6E880",
           "#FF97FF",
           "#FECB52"
          ],
          "font": {
           "color": "#2a3f5f"
          },
          "geo": {
           "bgcolor": "white",
           "lakecolor": "white",
           "landcolor": "#E5ECF6",
           "showlakes": true,
           "showland": true,
           "subunitcolor": "white"
          },
          "hoverlabel": {
           "align": "left"
          },
          "hovermode": "closest",
          "mapbox": {
           "style": "light"
          },
          "paper_bgcolor": "white",
          "plot_bgcolor": "#E5ECF6",
          "polar": {
           "angularaxis": {
            "gridcolor": "white",
            "linecolor": "white",
            "ticks": ""
           },
           "bgcolor": "#E5ECF6",
           "radialaxis": {
            "gridcolor": "white",
            "linecolor": "white",
            "ticks": ""
           }
          },
          "scene": {
           "xaxis": {
            "backgroundcolor": "#E5ECF6",
            "gridcolor": "white",
            "gridwidth": 2,
            "linecolor": "white",
            "showbackground": true,
            "ticks": "",
            "zerolinecolor": "white"
           },
           "yaxis": {
            "backgroundcolor": "#E5ECF6",
            "gridcolor": "white",
            "gridwidth": 2,
            "linecolor": "white",
            "showbackground": true,
            "ticks": "",
            "zerolinecolor": "white"
           },
           "zaxis": {
            "backgroundcolor": "#E5ECF6",
            "gridcolor": "white",
            "gridwidth": 2,
            "linecolor": "white",
            "showbackground": true,
            "ticks": "",
            "zerolinecolor": "white"
           }
          },
          "shapedefaults": {
           "line": {
            "color": "#2a3f5f"
           }
          },
          "ternary": {
           "aaxis": {
            "gridcolor": "white",
            "linecolor": "white",
            "ticks": ""
           },
           "baxis": {
            "gridcolor": "white",
            "linecolor": "white",
            "ticks": ""
           },
           "bgcolor": "#E5ECF6",
           "caxis": {
            "gridcolor": "white",
            "linecolor": "white",
            "ticks": ""
           }
          },
          "title": {
           "x": 0.05
          },
          "xaxis": {
           "automargin": true,
           "gridcolor": "white",
           "linecolor": "white",
           "ticks": "",
           "title": {
            "standoff": 15
           },
           "zerolinecolor": "white",
           "zerolinewidth": 2
          },
          "yaxis": {
           "automargin": true,
           "gridcolor": "white",
           "linecolor": "white",
           "ticks": "",
           "title": {
            "standoff": 15
           },
           "zerolinecolor": "white",
           "zerolinewidth": 2
          }
         }
        },
        "title": {
         "text": "Top 5 Average Salary by Job Titles"
        },
        "xaxis": {
         "anchor": "y",
         "domain": [
          0,
          1
         ],
         "title": {
          "text": "Average Salary"
         }
        },
        "yaxis": {
         "anchor": "x",
         "domain": [
          0,
          1
         ],
         "title": {
          "text": "job_title"
         }
        }
       }
      }
     },
     "metadata": {},
     "output_type": "display_data"
    }
   ],
   "source": [
    "fig = px.bar(\n",
    "    df.groupby(\"job_title\")[\"salary_in_usd\"]\n",
    "    .mean()\n",
    "    .sort_values(ascending=False)\n",
    "    .head(5)\n",
    "    .reset_index(name=\"Average Salary\"),\n",
    "    x=\"Average Salary\",\n",
    "    y=\"job_title\",\n",
    "    color=\"Average Salary\",\n",
    "    title=\"Top 5 Average Salary by Job Titles\",\n",
    ")\n",
    "fig.show()"
   ]
  },
  {
   "cell_type": "code",
   "execution_count": 11,
   "metadata": {},
   "outputs": [],
   "source": [
    "# sns.barplot(\n",
    "#     data=df.groupby(\"job_title\")[\"salary_in_usd\"]\n",
    "#     .mean()\n",
    "#     .sort_values(ascending=False)\n",
    "#     .reset_index(name=\"Salary\")\n",
    "#     .head(5),\n",
    "#     x=\"Salary\",\n",
    "#     y=\"job_title\",\n",
    "# )\n",
    "# plt.title(\"Top 10 average salary in USD\")"
   ]
  },
  {
   "cell_type": "code",
   "execution_count": 12,
   "metadata": {},
   "outputs": [
    {
     "data": {
      "text/plain": [
       "job_title                       employee_residence\n",
       "Data Analytics Lead             United States         405000.0\n",
       "Analytics Engineering Manager   United Kingdom        399880.0\n",
       "Data Science Tech Lead          United States         375000.0\n",
       "Finance Data Analyst            France                323905.0\n",
       "Managing Director Data Science  United States         300000.0\n",
       "Name: salary_in_usd, dtype: float64"
      ]
     },
     "execution_count": 12,
     "metadata": {},
     "output_type": "execute_result"
    }
   ],
   "source": [
    "df.groupby([\"job_title\", \"employee_residence\"])[\"salary_in_usd\"].mean().sort_values(\n",
    "    ascending=False\n",
    ").head(5)"
   ]
  },
  {
   "cell_type": "code",
   "execution_count": 13,
   "metadata": {},
   "outputs": [
    {
     "data": {
      "application/vnd.plotly.v1+json": {
       "config": {
        "plotlyServerURL": "https://plot.ly"
       },
       "data": [
        {
         "coloraxis": "coloraxis",
         "geo": "geo",
         "hovertemplate": "<b>%{hovertext}</b><br><br>employee_residence=%{location}<br>Average Salary=%{z}<extra></extra>",
         "hovertext": [
          "Belgium",
          "United States",
          "Bosnia and Herzegovina",
          "Canada",
          "Finland",
          "France",
          "Germany",
          "Italy",
          "Sweden",
          "Ukraine",
          "United States",
          "Croatia",
          "Czech Republic",
          "Portugal",
          "Qatar",
          "Romania",
          "Spain",
          "United Kingdom",
          "United States",
          "Canada",
          "India",
          "Pakistan",
          "South Korea",
          "Portugal",
          "Tunisia",
          "United Kingdom",
          "Australia",
          "Canada",
          "Colombia",
          "Denmark",
          "Germany",
          "Ghana",
          "India",
          "Portugal",
          "South Korea",
          "Spain",
          "Turkey",
          "United States",
          "United States",
          "Argentina",
          "Brazil",
          "Canada",
          "Netherlands",
          "Nigeria",
          "United Kingdom",
          "United States",
          "United Kingdom",
          "Australia",
          "Austria",
          "Germany",
          "Italy",
          "Kenya",
          "United Kingdom",
          "United States",
          "India",
          "United States",
          "Bolivia",
          "France",
          "Germany",
          "Italy",
          "Tunisia",
          "United States",
          "Vietnam",
          "Nigeria",
          "United States",
          "American Samoa",
          "United Kingdom",
          "Mauritius",
          "Netherlands",
          "Brazil",
          "Nigeria",
          "Turkey",
          "United States",
          "Argentina",
          "Australia",
          "Canada",
          "Egypt",
          "France",
          "Germany",
          "India",
          "Kenya",
          "Ukraine",
          "United States",
          "United States",
          "United Kingdom",
          "United States",
          "Canada",
          "United Kingdom",
          "Canada",
          "Moldova",
          "Poland",
          "Spain",
          "Sweden",
          "United Kingdom",
          "United States",
          "Armenia",
          "Canada",
          "Ghana",
          "India",
          "Luxembourg",
          "Philippines",
          "Spain",
          "United States",
          "Canada",
          "United States",
          "Canada",
          "United States",
          "Canada",
          "Ghana",
          "United States",
          "Canada",
          "United Kingdom",
          "United States",
          "United States",
          "United States",
          "United States",
          "Brazil",
          "Germany",
          "Singapore",
          "United Kingdom",
          "United States",
          "Nigeria",
          "United States",
          "Brazil",
          "Denmark",
          "France",
          "India",
          "Russia",
          "United Kingdom",
          "United States",
          "Australia",
          "Denmark",
          "Germany",
          "Netherlands",
          "United States",
          "Canada",
          "Argentina",
          "Australia",
          "Bulgaria",
          "Canada",
          "Central African Republic",
          "China",
          "Colombia",
          "Costa Rica",
          "Croatia",
          "Estonia",
          "France",
          "Germany",
          "Greece",
          "India",
          "Indonesia",
          "Kuwait",
          "Philippines",
          "Poland",
          "Portugal",
          "Singapore",
          "Slovenia",
          "Spain",
          "United Kingdom",
          "United States",
          "Uzbekistan",
          "Belgium",
          "United States",
          "Germany",
          "Pakistan",
          "United States",
          "Vietnam",
          "United Kingdom",
          "United States",
          "Netherlands",
          "United States",
          "United States",
          "Canada",
          "United Kingdom",
          "United States",
          "France",
          "Germany",
          "United States",
          "Argentina",
          "Australia",
          "Austria",
          "Brazil",
          "Canada",
          "Colombia",
          "Estonia",
          "France",
          "Germany",
          "Greece",
          "Hong Kong",
          "India",
          "Ireland",
          "Italy",
          "Lithuania",
          "Malta",
          "Mexico",
          "Netherlands",
          "Pakistan",
          "Peru",
          "Poland",
          "Portugal",
          "Puerto Rico",
          "Romania",
          "Slovenia",
          "South Africa",
          "Spain",
          "Turkey",
          "United Kingdom",
          "United States",
          "United States",
          "United States",
          "Canada",
          "United States",
          "United States",
          "United States",
          "Italy",
          "United States",
          "Canada",
          "Colombia",
          "Mexico",
          "United Kingdom",
          "United States",
          "United Kingdom",
          "United States",
          "United Kingdom",
          "United Kingdom",
          "United States",
          "United States",
          "United States",
          "United States",
          "United States",
          "United Kingdom",
          "United Kingdom",
          "United States",
          "Portugal",
          "United States",
          "France",
          "Germany",
          "Italy",
          "Pakistan",
          "Spain",
          "United Kingdom",
          "United States",
          "United States",
          "Argentina",
          "Canada",
          "Greece",
          "Switzerland",
          "United States",
          "United Kingdom",
          "United States",
          "Australia",
          "Mexico",
          "Philippines",
          "United States",
          "Uzbekistan",
          "United States",
          "United States",
          "Algeria",
          "Andorra",
          "Australia",
          "Austria",
          "Belgium",
          "Brazil",
          "Canada",
          "Cyprus",
          "Dominican Republic",
          "Ecuador",
          "France",
          "Germany",
          "Greece",
          "India",
          "Ireland",
          "Italy",
          "Japan",
          "Latvia",
          "Mexico",
          "Netherlands",
          "Nigeria",
          "Philippines",
          "Poland",
          "Romania",
          "Russia",
          "Serbia",
          "Singapore",
          "Spain",
          "Switzerland",
          "Turkey",
          "United Kingdom",
          "United States",
          "Uzbekistan",
          "Austria",
          "United States",
          "Chile",
          "United States",
          "Canada",
          "United States",
          "United States",
          "United States",
          "United States",
          "United States",
          "United Kingdom",
          "United States",
          "Canada",
          "United Kingdom",
          "United States",
          "Germany",
          "Canada",
          "France",
          "Germany",
          "Italy",
          "Japan",
          "United Kingdom",
          "United States",
          "Greece",
          "United States",
          "United Kingdom",
          "France",
          "Nigeria",
          "United Kingdom",
          "United States",
          "Brazil",
          "Estonia",
          "Malaysia",
          "Portugal",
          "Russia",
          "Slovenia",
          "United Kingdom",
          "United States",
          "Netherlands",
          "Russia",
          "United Kingdom",
          "United States",
          "United States",
          "Portugal",
          "United Kingdom",
          "United States",
          "Canada",
          "New Zealand",
          "Portugal",
          "Puerto Rico",
          "United Kingdom",
          "United States",
          "Ireland",
          "Portugal",
          "Russia",
          "United Arab Emirates",
          "United Kingdom",
          "United States",
          "Germany",
          "Moldova",
          "Portugal",
          "Australia",
          "Canada",
          "Germany",
          "Portugal",
          "United States",
          "Brazil",
          "United States",
          "Canada",
          "Iraq",
          "Italy",
          "Nigeria",
          "Pakistan",
          "Thailand",
          "United States",
          "Armenia",
          "Australia",
          "Belgium",
          "Canada",
          "Colombia",
          "Croatia",
          "Finland",
          "France",
          "Germany",
          "India",
          "Iran",
          "Ireland",
          "Italy",
          "Japan",
          "Latvia",
          "Lithuania",
          "Mexico",
          "Netherlands",
          "Poland",
          "Portugal",
          "Puerto Rico",
          "Slovenia",
          "Spain",
          "Switzerland",
          "Uganda",
          "Ukraine",
          "United Arab Emirates",
          "United Kingdom",
          "United States",
          "France",
          "Portugal",
          "United Kingdom",
          "United States",
          "Canada",
          "Germany",
          "United States",
          "United States",
          "Thailand",
          "France",
          "Germany",
          "Saudi Arabia",
          "United Kingdom",
          "Canada",
          "Ukraine",
          "United States",
          "Canada",
          "Egypt",
          "Italy",
          "Japan",
          "United Kingdom",
          "United States",
          "Canada",
          "United States",
          "France",
          "United States",
          "United States",
          "Greece",
          "United Kingdom",
          "Singapore",
          "India",
          "Italy",
          "Poland",
          "Spain",
          "United States",
          "Poland",
          "Canada",
          "United States",
          "Spain",
          "United States",
          "Germany",
          "Spain",
          "United States",
          "Brazil",
          "India",
          "United States",
          "Georgia",
          "Honduras",
          "United States",
          "Italy",
          "Spain",
          "United Kingdom",
          "United States",
          "France",
          "Germany",
          "Russia",
          "United Kingdom",
          "United States",
          "Austria",
          "Canada",
          "Czech Republic",
          "France",
          "Germany",
          "India",
          "Jersey",
          "Netherlands",
          "Portugal",
          "Spain",
          "United Kingdom",
          "United States",
          "Nigeria",
          "Nigeria",
          "Singapore",
          "United States",
          "Canada",
          "Nigeria",
          "Saudi Arabia",
          "United States",
          "United States"
         ],
         "locationmode": "country names",
         "locations": [
          "Belgium",
          "United States",
          "Bosnia and Herzegovina",
          "Canada",
          "Finland",
          "France",
          "Germany",
          "Italy",
          "Sweden",
          "Ukraine",
          "United States",
          "Croatia",
          "Czech Republic",
          "Portugal",
          "Qatar",
          "Romania",
          "Spain",
          "United Kingdom",
          "United States",
          "Canada",
          "India",
          "Pakistan",
          "South Korea",
          "Portugal",
          "Tunisia",
          "United Kingdom",
          "Australia",
          "Canada",
          "Colombia",
          "Denmark",
          "Germany",
          "Ghana",
          "India",
          "Portugal",
          "South Korea",
          "Spain",
          "Turkey",
          "United States",
          "United States",
          "Argentina",
          "Brazil",
          "Canada",
          "Netherlands",
          "Nigeria",
          "United Kingdom",
          "United States",
          "United Kingdom",
          "Australia",
          "Austria",
          "Germany",
          "Italy",
          "Kenya",
          "United Kingdom",
          "United States",
          "India",
          "United States",
          "Bolivia",
          "France",
          "Germany",
          "Italy",
          "Tunisia",
          "United States",
          "Vietnam",
          "Nigeria",
          "United States",
          "American Samoa",
          "United Kingdom",
          "Mauritius",
          "Netherlands",
          "Brazil",
          "Nigeria",
          "Turkey",
          "United States",
          "Argentina",
          "Australia",
          "Canada",
          "Egypt",
          "France",
          "Germany",
          "India",
          "Kenya",
          "Ukraine",
          "United States",
          "United States",
          "United Kingdom",
          "United States",
          "Canada",
          "United Kingdom",
          "Canada",
          "Moldova",
          "Poland",
          "Spain",
          "Sweden",
          "United Kingdom",
          "United States",
          "Armenia",
          "Canada",
          "Ghana",
          "India",
          "Luxembourg",
          "Philippines",
          "Spain",
          "United States",
          "Canada",
          "United States",
          "Canada",
          "United States",
          "Canada",
          "Ghana",
          "United States",
          "Canada",
          "United Kingdom",
          "United States",
          "United States",
          "United States",
          "United States",
          "Brazil",
          "Germany",
          "Singapore",
          "United Kingdom",
          "United States",
          "Nigeria",
          "United States",
          "Brazil",
          "Denmark",
          "France",
          "India",
          "Russia",
          "United Kingdom",
          "United States",
          "Australia",
          "Denmark",
          "Germany",
          "Netherlands",
          "United States",
          "Canada",
          "Argentina",
          "Australia",
          "Bulgaria",
          "Canada",
          "Central African Republic",
          "China",
          "Colombia",
          "Costa Rica",
          "Croatia",
          "Estonia",
          "France",
          "Germany",
          "Greece",
          "India",
          "Indonesia",
          "Kuwait",
          "Philippines",
          "Poland",
          "Portugal",
          "Singapore",
          "Slovenia",
          "Spain",
          "United Kingdom",
          "United States",
          "Uzbekistan",
          "Belgium",
          "United States",
          "Germany",
          "Pakistan",
          "United States",
          "Vietnam",
          "United Kingdom",
          "United States",
          "Netherlands",
          "United States",
          "United States",
          "Canada",
          "United Kingdom",
          "United States",
          "France",
          "Germany",
          "United States",
          "Argentina",
          "Australia",
          "Austria",
          "Brazil",
          "Canada",
          "Colombia",
          "Estonia",
          "France",
          "Germany",
          "Greece",
          "Hong Kong",
          "India",
          "Ireland",
          "Italy",
          "Lithuania",
          "Malta",
          "Mexico",
          "Netherlands",
          "Pakistan",
          "Peru",
          "Poland",
          "Portugal",
          "Puerto Rico",
          "Romania",
          "Slovenia",
          "South Africa",
          "Spain",
          "Turkey",
          "United Kingdom",
          "United States",
          "United States",
          "United States",
          "Canada",
          "United States",
          "United States",
          "United States",
          "Italy",
          "United States",
          "Canada",
          "Colombia",
          "Mexico",
          "United Kingdom",
          "United States",
          "United Kingdom",
          "United States",
          "United Kingdom",
          "United Kingdom",
          "United States",
          "United States",
          "United States",
          "United States",
          "United States",
          "United Kingdom",
          "United Kingdom",
          "United States",
          "Portugal",
          "United States",
          "France",
          "Germany",
          "Italy",
          "Pakistan",
          "Spain",
          "United Kingdom",
          "United States",
          "United States",
          "Argentina",
          "Canada",
          "Greece",
          "Switzerland",
          "United States",
          "United Kingdom",
          "United States",
          "Australia",
          "Mexico",
          "Philippines",
          "United States",
          "Uzbekistan",
          "United States",
          "United States",
          "Algeria",
          "Andorra",
          "Australia",
          "Austria",
          "Belgium",
          "Brazil",
          "Canada",
          "Cyprus",
          "Dominican Republic",
          "Ecuador",
          "France",
          "Germany",
          "Greece",
          "India",
          "Ireland",
          "Italy",
          "Japan",
          "Latvia",
          "Mexico",
          "Netherlands",
          "Nigeria",
          "Philippines",
          "Poland",
          "Romania",
          "Russia",
          "Serbia",
          "Singapore",
          "Spain",
          "Switzerland",
          "Turkey",
          "United Kingdom",
          "United States",
          "Uzbekistan",
          "Austria",
          "United States",
          "Chile",
          "United States",
          "Canada",
          "United States",
          "United States",
          "United States",
          "United States",
          "United States",
          "United Kingdom",
          "United States",
          "Canada",
          "United Kingdom",
          "United States",
          "Germany",
          "Canada",
          "France",
          "Germany",
          "Italy",
          "Japan",
          "United Kingdom",
          "United States",
          "Greece",
          "United States",
          "United Kingdom",
          "France",
          "Nigeria",
          "United Kingdom",
          "United States",
          "Brazil",
          "Estonia",
          "Malaysia",
          "Portugal",
          "Russia",
          "Slovenia",
          "United Kingdom",
          "United States",
          "Netherlands",
          "Russia",
          "United Kingdom",
          "United States",
          "United States",
          "Portugal",
          "United Kingdom",
          "United States",
          "Canada",
          "New Zealand",
          "Portugal",
          "Puerto Rico",
          "United Kingdom",
          "United States",
          "Ireland",
          "Portugal",
          "Russia",
          "United Arab Emirates",
          "United Kingdom",
          "United States",
          "Germany",
          "Moldova",
          "Portugal",
          "Australia",
          "Canada",
          "Germany",
          "Portugal",
          "United States",
          "Brazil",
          "United States",
          "Canada",
          "Iraq",
          "Italy",
          "Nigeria",
          "Pakistan",
          "Thailand",
          "United States",
          "Armenia",
          "Australia",
          "Belgium",
          "Canada",
          "Colombia",
          "Croatia",
          "Finland",
          "France",
          "Germany",
          "India",
          "Iran",
          "Ireland",
          "Italy",
          "Japan",
          "Latvia",
          "Lithuania",
          "Mexico",
          "Netherlands",
          "Poland",
          "Portugal",
          "Puerto Rico",
          "Slovenia",
          "Spain",
          "Switzerland",
          "Uganda",
          "Ukraine",
          "United Arab Emirates",
          "United Kingdom",
          "United States",
          "France",
          "Portugal",
          "United Kingdom",
          "United States",
          "Canada",
          "Germany",
          "United States",
          "United States",
          "Thailand",
          "France",
          "Germany",
          "Saudi Arabia",
          "United Kingdom",
          "Canada",
          "Ukraine",
          "United States",
          "Canada",
          "Egypt",
          "Italy",
          "Japan",
          "United Kingdom",
          "United States",
          "Canada",
          "United States",
          "France",
          "United States",
          "United States",
          "Greece",
          "United Kingdom",
          "Singapore",
          "India",
          "Italy",
          "Poland",
          "Spain",
          "United States",
          "Poland",
          "Canada",
          "United States",
          "Spain",
          "United States",
          "Germany",
          "Spain",
          "United States",
          "Brazil",
          "India",
          "United States",
          "Georgia",
          "Honduras",
          "United States",
          "Italy",
          "Spain",
          "United Kingdom",
          "United States",
          "France",
          "Germany",
          "Russia",
          "United Kingdom",
          "United States",
          "Austria",
          "Canada",
          "Czech Republic",
          "France",
          "Germany",
          "India",
          "Jersey",
          "Netherlands",
          "Portugal",
          "Spain",
          "United Kingdom",
          "United States",
          "Nigeria",
          "Nigeria",
          "Singapore",
          "United States",
          "Canada",
          "Nigeria",
          "Saudi Arabia",
          "United States",
          "United States"
         ],
         "name": "",
         "type": "choropleth",
         "z": [
          215936,
          253454.54545454544,
          120000,
          275000,
          74883,
          161952,
          140358.5,
          53984,
          80000,
          72666.66666666667,
          182285.7142857143,
          35000,
          50000,
          21593,
          300000,
          38868,
          48796,
          204900,
          193594.44444444444,
          97043.5,
          70000,
          40000,
          40000,
          24940,
          150000,
          59073,
          81838,
          200000,
          125000,
          45896,
          92390.5,
          30000,
          200000,
          31520,
          54000,
          46934,
          60000,
          142500,
          258000,
          48000,
          63000,
          134666.66666666666,
          37573,
          50000,
          156071.68181818182,
          158018.24215246638,
          399880,
          53817.5,
          50000,
          64781,
          29691,
          80000,
          82137.5,
          238000,
          70179,
          177500,
          75000,
          77119,
          43187,
          97712,
          30469,
          188800,
          38400,
          28000,
          191372.8777777778,
          45555,
          120000,
          100000,
          100000,
          63000,
          200000,
          18381,
          133789.6,
          60000,
          49209,
          85000,
          70000,
          105066,
          61236,
          150000,
          50000,
          25000,
          77500,
          60000,
          75592.5,
          118743.75,
          99703,
          153799,
          161311,
          18000,
          114047,
          54292.5,
          130000,
          109024,
          70000,
          17000,
          69133,
          46000,
          50000,
          59102,
          35000,
          50784.5,
          110111.11111111111,
          93722.66666666667,
          129053.4375,
          67419,
          99000,
          108250,
          15000,
          121086.25,
          135000,
          43064,
          153187,
          135000,
          144153,
          250000,
          160000,
          100000,
          89294,
          177177,
          155000,
          30000,
          60000,
          21453.5,
          28609,
          58837,
          90000,
          60000,
          164504,
          215093.33333333334,
          150000,
          19073,
          95746,
          53984,
          70000,
          118539,
          40000,
          116509.33333333333,
          80000,
          107254.4827586207,
          49216,
          125404,
          72000,
          20000,
          92280,
          45130.333333333336,
          44743,
          53304.75,
          31182,
          30000,
          15000,
          50000,
          50000,
          69386.66666666667,
          38193.666666666664,
          65257,
          42647,
          43788.41176470588,
          88412.09411764707,
          114324.25474031328,
          100000,
          50000,
          113000,
          79197,
          20000,
          122500,
          50000,
          113812,
          405000,
          133000,
          145857.83783783784,
          95000,
          145150,
          101983.2,
          167560.09547738693,
          53984,
          95012,
          103738.16666666667,
          65000,
          75050,
          74130,
          63000,
          148548.58333333334,
          87750,
          50529,
          73362.55555555556,
          88989.54545454546,
          67631,
          66022,
          18000,
          102569,
          52670,
          94812,
          28369,
          66000,
          58340,
          55108.5,
          27000,
          39409.333333333336,
          53892,
          167500,
          51419,
          62081,
          100492.5,
          72778.23076923077,
          28016,
          89443.08547008547,
          154245.12409513962,
          201375.41666666666,
          118000,
          100000,
          94341.66666666667,
          184642.85714285713,
          56000,
          68293,
          116523.25,
          125976,
          56500,
          72000,
          68648.83333333333,
          112941.94262295082,
          83052,
          132050,
          83052,
          110500,
          88498.75,
          133431.25,
          136000,
          55355,
          142750,
          89204,
          43064,
          89898.88888888889,
          23753,
          131500,
          69741,
          72499,
          24165,
          21000,
          27317,
          60927.5,
          121724.24242424243,
          201000,
          60000,
          127221,
          40189,
          104024,
          162715,
          67672,
          180105.05555555556,
          133766,
          120000,
          107968,
          206800.53012048194,
          106000,
          144480,
          375000,
          100000,
          50745,
          83171,
          75849.5,
          68030.5,
          64477.5,
          162714.9090909091,
          63701,
          110000,
          16000,
          54756.6875,
          71548,
          43931,
          42500,
          107744.8,
          23790.5,
          40000,
          58788.25,
          30000,
          79661.71428571429,
          50000,
          45760,
          33609,
          53984,
          48000,
          25532,
          119059,
          44938.8679245283,
          121520,
          26698.333333333332,
          108949.8552631579,
          166329.7747957993,
          40000,
          89306,
          183000,
          105000,
          103053.84615384616,
          81000,
          97688.125,
          138750,
          120000,
          122975,
          122275,
          147648,
          167119.44444444444,
          201702,
          67723,
          218855,
          124163,
          158992.5,
          57786,
          135936,
          153667,
          168000,
          219934,
          253918.88888888888,
          52533,
          137154.375,
          72286,
          323905,
          40000,
          61896,
          90375,
          112500,
          31520,
          200000,
          75577,
          230000,
          102839,
          169180,
          246704.54545454544,
          131721,
          85000,
          145673,
          224539.2857142857,
          259000,
          48585.5,
          47370,
          108333.33333333333,
          115222,
          125000,
          56000,
          160000,
          103160,
          276000,
          172309,
          29944,
          36000,
          115000,
          61566,
          179622.66666666666,
          84053,
          115000,
          69344,
          224993,
          185000,
          15966,
          21013,
          200487.8282828283,
          27568,
          128740,
          76814,
          100000,
          33000,
          60000,
          40000,
          15000,
          180000,
          50000,
          214772.8,
          85699,
          170826.92307692306,
          60614.666666666664,
          45618,
          63040,
          130204.16666666667,
          146595.85714285713,
          20000,
          100000,
          68293,
          56609.333333333336,
          74000,
          58302.5,
          100410,
          158666.66666666666,
          79409,
          46597,
          116666.66666666667,
          167500,
          24823,
          43075,
          80616.5,
          36000,
          230000,
          92500,
          135953.6923076923,
          192561.168591224,
          91772.5,
          52932.5,
          122698.5,
          182360,
          117104,
          129562,
          175000,
          173350,
          60000,
          20000,
          66192,
          90000,
          73824,
          105236,
          50000,
          147166.66666666666,
          154680,
          22800,
          34672,
          260000,
          155948.33333333334,
          183381.35483870967,
          206800,
          215622.22222222222,
          55000,
          125000,
          300000,
          88654,
          200000,
          66970,
          60000,
          66508,
          44365,
          69909.5,
          198333.33333333334,
          64781,
          75000,
          170000,
          91773,
          192500,
          159174,
          86374,
          229500,
          38290,
          160000,
          190000,
          57000,
          20000,
          107733.33333333333,
          52079,
          49297,
          43064,
          101687.48484848485,
          141796.66666666666,
          160835.5,
          16455,
          87773.2,
          189350.80916030533,
          61989,
          148273,
          69999,
          64673.25,
          105066.5,
          23000,
          100000,
          63026.5,
          60757,
          211475,
          166230.75,
          191087.32510288066,
          60000,
          50000,
          74883,
          210000,
          44753,
          15000,
          179998,
          134500,
          185000
         ]
        }
       ],
       "layout": {
        "coloraxis": {
         "colorbar": {
          "title": {
           "text": "Average Salary"
          }
         },
         "colorscale": [
          [
           0,
           "#0d0887"
          ],
          [
           0.1111111111111111,
           "#46039f"
          ],
          [
           0.2222222222222222,
           "#7201a8"
          ],
          [
           0.3333333333333333,
           "#9c179e"
          ],
          [
           0.4444444444444444,
           "#bd3786"
          ],
          [
           0.5555555555555556,
           "#d8576b"
          ],
          [
           0.6666666666666666,
           "#ed7953"
          ],
          [
           0.7777777777777778,
           "#fb9f3a"
          ],
          [
           0.8888888888888888,
           "#fdca26"
          ],
          [
           1,
           "#f0f921"
          ]
         ]
        },
        "geo": {
         "center": {},
         "domain": {
          "x": [
           0,
           1
          ],
          "y": [
           0,
           1
          ]
         },
         "projection": {
          "type": "natural earth"
         },
         "showcoastlines": true
        },
        "legend": {
         "tracegroupgap": 0
        },
        "margin": {
         "t": 60
        },
        "template": {
         "data": {
          "bar": [
           {
            "error_x": {
             "color": "#2a3f5f"
            },
            "error_y": {
             "color": "#2a3f5f"
            },
            "marker": {
             "line": {
              "color": "#E5ECF6",
              "width": 0.5
             },
             "pattern": {
              "fillmode": "overlay",
              "size": 10,
              "solidity": 0.2
             }
            },
            "type": "bar"
           }
          ],
          "barpolar": [
           {
            "marker": {
             "line": {
              "color": "#E5ECF6",
              "width": 0.5
             },
             "pattern": {
              "fillmode": "overlay",
              "size": 10,
              "solidity": 0.2
             }
            },
            "type": "barpolar"
           }
          ],
          "carpet": [
           {
            "aaxis": {
             "endlinecolor": "#2a3f5f",
             "gridcolor": "white",
             "linecolor": "white",
             "minorgridcolor": "white",
             "startlinecolor": "#2a3f5f"
            },
            "baxis": {
             "endlinecolor": "#2a3f5f",
             "gridcolor": "white",
             "linecolor": "white",
             "minorgridcolor": "white",
             "startlinecolor": "#2a3f5f"
            },
            "type": "carpet"
           }
          ],
          "choropleth": [
           {
            "colorbar": {
             "outlinewidth": 0,
             "ticks": ""
            },
            "type": "choropleth"
           }
          ],
          "contour": [
           {
            "colorbar": {
             "outlinewidth": 0,
             "ticks": ""
            },
            "colorscale": [
             [
              0,
              "#0d0887"
             ],
             [
              0.1111111111111111,
              "#46039f"
             ],
             [
              0.2222222222222222,
              "#7201a8"
             ],
             [
              0.3333333333333333,
              "#9c179e"
             ],
             [
              0.4444444444444444,
              "#bd3786"
             ],
             [
              0.5555555555555556,
              "#d8576b"
             ],
             [
              0.6666666666666666,
              "#ed7953"
             ],
             [
              0.7777777777777778,
              "#fb9f3a"
             ],
             [
              0.8888888888888888,
              "#fdca26"
             ],
             [
              1,
              "#f0f921"
             ]
            ],
            "type": "contour"
           }
          ],
          "contourcarpet": [
           {
            "colorbar": {
             "outlinewidth": 0,
             "ticks": ""
            },
            "type": "contourcarpet"
           }
          ],
          "heatmap": [
           {
            "colorbar": {
             "outlinewidth": 0,
             "ticks": ""
            },
            "colorscale": [
             [
              0,
              "#0d0887"
             ],
             [
              0.1111111111111111,
              "#46039f"
             ],
             [
              0.2222222222222222,
              "#7201a8"
             ],
             [
              0.3333333333333333,
              "#9c179e"
             ],
             [
              0.4444444444444444,
              "#bd3786"
             ],
             [
              0.5555555555555556,
              "#d8576b"
             ],
             [
              0.6666666666666666,
              "#ed7953"
             ],
             [
              0.7777777777777778,
              "#fb9f3a"
             ],
             [
              0.8888888888888888,
              "#fdca26"
             ],
             [
              1,
              "#f0f921"
             ]
            ],
            "type": "heatmap"
           }
          ],
          "heatmapgl": [
           {
            "colorbar": {
             "outlinewidth": 0,
             "ticks": ""
            },
            "colorscale": [
             [
              0,
              "#0d0887"
             ],
             [
              0.1111111111111111,
              "#46039f"
             ],
             [
              0.2222222222222222,
              "#7201a8"
             ],
             [
              0.3333333333333333,
              "#9c179e"
             ],
             [
              0.4444444444444444,
              "#bd3786"
             ],
             [
              0.5555555555555556,
              "#d8576b"
             ],
             [
              0.6666666666666666,
              "#ed7953"
             ],
             [
              0.7777777777777778,
              "#fb9f3a"
             ],
             [
              0.8888888888888888,
              "#fdca26"
             ],
             [
              1,
              "#f0f921"
             ]
            ],
            "type": "heatmapgl"
           }
          ],
          "histogram": [
           {
            "marker": {
             "pattern": {
              "fillmode": "overlay",
              "size": 10,
              "solidity": 0.2
             }
            },
            "type": "histogram"
           }
          ],
          "histogram2d": [
           {
            "colorbar": {
             "outlinewidth": 0,
             "ticks": ""
            },
            "colorscale": [
             [
              0,
              "#0d0887"
             ],
             [
              0.1111111111111111,
              "#46039f"
             ],
             [
              0.2222222222222222,
              "#7201a8"
             ],
             [
              0.3333333333333333,
              "#9c179e"
             ],
             [
              0.4444444444444444,
              "#bd3786"
             ],
             [
              0.5555555555555556,
              "#d8576b"
             ],
             [
              0.6666666666666666,
              "#ed7953"
             ],
             [
              0.7777777777777778,
              "#fb9f3a"
             ],
             [
              0.8888888888888888,
              "#fdca26"
             ],
             [
              1,
              "#f0f921"
             ]
            ],
            "type": "histogram2d"
           }
          ],
          "histogram2dcontour": [
           {
            "colorbar": {
             "outlinewidth": 0,
             "ticks": ""
            },
            "colorscale": [
             [
              0,
              "#0d0887"
             ],
             [
              0.1111111111111111,
              "#46039f"
             ],
             [
              0.2222222222222222,
              "#7201a8"
             ],
             [
              0.3333333333333333,
              "#9c179e"
             ],
             [
              0.4444444444444444,
              "#bd3786"
             ],
             [
              0.5555555555555556,
              "#d8576b"
             ],
             [
              0.6666666666666666,
              "#ed7953"
             ],
             [
              0.7777777777777778,
              "#fb9f3a"
             ],
             [
              0.8888888888888888,
              "#fdca26"
             ],
             [
              1,
              "#f0f921"
             ]
            ],
            "type": "histogram2dcontour"
           }
          ],
          "mesh3d": [
           {
            "colorbar": {
             "outlinewidth": 0,
             "ticks": ""
            },
            "type": "mesh3d"
           }
          ],
          "parcoords": [
           {
            "line": {
             "colorbar": {
              "outlinewidth": 0,
              "ticks": ""
             }
            },
            "type": "parcoords"
           }
          ],
          "pie": [
           {
            "automargin": true,
            "type": "pie"
           }
          ],
          "scatter": [
           {
            "fillpattern": {
             "fillmode": "overlay",
             "size": 10,
             "solidity": 0.2
            },
            "type": "scatter"
           }
          ],
          "scatter3d": [
           {
            "line": {
             "colorbar": {
              "outlinewidth": 0,
              "ticks": ""
             }
            },
            "marker": {
             "colorbar": {
              "outlinewidth": 0,
              "ticks": ""
             }
            },
            "type": "scatter3d"
           }
          ],
          "scattercarpet": [
           {
            "marker": {
             "colorbar": {
              "outlinewidth": 0,
              "ticks": ""
             }
            },
            "type": "scattercarpet"
           }
          ],
          "scattergeo": [
           {
            "marker": {
             "colorbar": {
              "outlinewidth": 0,
              "ticks": ""
             }
            },
            "type": "scattergeo"
           }
          ],
          "scattergl": [
           {
            "marker": {
             "colorbar": {
              "outlinewidth": 0,
              "ticks": ""
             }
            },
            "type": "scattergl"
           }
          ],
          "scattermapbox": [
           {
            "marker": {
             "colorbar": {
              "outlinewidth": 0,
              "ticks": ""
             }
            },
            "type": "scattermapbox"
           }
          ],
          "scatterpolar": [
           {
            "marker": {
             "colorbar": {
              "outlinewidth": 0,
              "ticks": ""
             }
            },
            "type": "scatterpolar"
           }
          ],
          "scatterpolargl": [
           {
            "marker": {
             "colorbar": {
              "outlinewidth": 0,
              "ticks": ""
             }
            },
            "type": "scatterpolargl"
           }
          ],
          "scatterternary": [
           {
            "marker": {
             "colorbar": {
              "outlinewidth": 0,
              "ticks": ""
             }
            },
            "type": "scatterternary"
           }
          ],
          "surface": [
           {
            "colorbar": {
             "outlinewidth": 0,
             "ticks": ""
            },
            "colorscale": [
             [
              0,
              "#0d0887"
             ],
             [
              0.1111111111111111,
              "#46039f"
             ],
             [
              0.2222222222222222,
              "#7201a8"
             ],
             [
              0.3333333333333333,
              "#9c179e"
             ],
             [
              0.4444444444444444,
              "#bd3786"
             ],
             [
              0.5555555555555556,
              "#d8576b"
             ],
             [
              0.6666666666666666,
              "#ed7953"
             ],
             [
              0.7777777777777778,
              "#fb9f3a"
             ],
             [
              0.8888888888888888,
              "#fdca26"
             ],
             [
              1,
              "#f0f921"
             ]
            ],
            "type": "surface"
           }
          ],
          "table": [
           {
            "cells": {
             "fill": {
              "color": "#EBF0F8"
             },
             "line": {
              "color": "white"
             }
            },
            "header": {
             "fill": {
              "color": "#C8D4E3"
             },
             "line": {
              "color": "white"
             }
            },
            "type": "table"
           }
          ]
         },
         "layout": {
          "annotationdefaults": {
           "arrowcolor": "#2a3f5f",
           "arrowhead": 0,
           "arrowwidth": 1
          },
          "autotypenumbers": "strict",
          "coloraxis": {
           "colorbar": {
            "outlinewidth": 0,
            "ticks": ""
           }
          },
          "colorscale": {
           "diverging": [
            [
             0,
             "#8e0152"
            ],
            [
             0.1,
             "#c51b7d"
            ],
            [
             0.2,
             "#de77ae"
            ],
            [
             0.3,
             "#f1b6da"
            ],
            [
             0.4,
             "#fde0ef"
            ],
            [
             0.5,
             "#f7f7f7"
            ],
            [
             0.6,
             "#e6f5d0"
            ],
            [
             0.7,
             "#b8e186"
            ],
            [
             0.8,
             "#7fbc41"
            ],
            [
             0.9,
             "#4d9221"
            ],
            [
             1,
             "#276419"
            ]
           ],
           "sequential": [
            [
             0,
             "#0d0887"
            ],
            [
             0.1111111111111111,
             "#46039f"
            ],
            [
             0.2222222222222222,
             "#7201a8"
            ],
            [
             0.3333333333333333,
             "#9c179e"
            ],
            [
             0.4444444444444444,
             "#bd3786"
            ],
            [
             0.5555555555555556,
             "#d8576b"
            ],
            [
             0.6666666666666666,
             "#ed7953"
            ],
            [
             0.7777777777777778,
             "#fb9f3a"
            ],
            [
             0.8888888888888888,
             "#fdca26"
            ],
            [
             1,
             "#f0f921"
            ]
           ],
           "sequentialminus": [
            [
             0,
             "#0d0887"
            ],
            [
             0.1111111111111111,
             "#46039f"
            ],
            [
             0.2222222222222222,
             "#7201a8"
            ],
            [
             0.3333333333333333,
             "#9c179e"
            ],
            [
             0.4444444444444444,
             "#bd3786"
            ],
            [
             0.5555555555555556,
             "#d8576b"
            ],
            [
             0.6666666666666666,
             "#ed7953"
            ],
            [
             0.7777777777777778,
             "#fb9f3a"
            ],
            [
             0.8888888888888888,
             "#fdca26"
            ],
            [
             1,
             "#f0f921"
            ]
           ]
          },
          "colorway": [
           "#636efa",
           "#EF553B",
           "#00cc96",
           "#ab63fa",
           "#FFA15A",
           "#19d3f3",
           "#FF6692",
           "#B6E880",
           "#FF97FF",
           "#FECB52"
          ],
          "font": {
           "color": "#2a3f5f"
          },
          "geo": {
           "bgcolor": "white",
           "lakecolor": "white",
           "landcolor": "#E5ECF6",
           "showlakes": true,
           "showland": true,
           "subunitcolor": "white"
          },
          "hoverlabel": {
           "align": "left"
          },
          "hovermode": "closest",
          "mapbox": {
           "style": "light"
          },
          "paper_bgcolor": "white",
          "plot_bgcolor": "#E5ECF6",
          "polar": {
           "angularaxis": {
            "gridcolor": "white",
            "linecolor": "white",
            "ticks": ""
           },
           "bgcolor": "#E5ECF6",
           "radialaxis": {
            "gridcolor": "white",
            "linecolor": "white",
            "ticks": ""
           }
          },
          "scene": {
           "xaxis": {
            "backgroundcolor": "#E5ECF6",
            "gridcolor": "white",
            "gridwidth": 2,
            "linecolor": "white",
            "showbackground": true,
            "ticks": "",
            "zerolinecolor": "white"
           },
           "yaxis": {
            "backgroundcolor": "#E5ECF6",
            "gridcolor": "white",
            "gridwidth": 2,
            "linecolor": "white",
            "showbackground": true,
            "ticks": "",
            "zerolinecolor": "white"
           },
           "zaxis": {
            "backgroundcolor": "#E5ECF6",
            "gridcolor": "white",
            "gridwidth": 2,
            "linecolor": "white",
            "showbackground": true,
            "ticks": "",
            "zerolinecolor": "white"
           }
          },
          "shapedefaults": {
           "line": {
            "color": "#2a3f5f"
           }
          },
          "ternary": {
           "aaxis": {
            "gridcolor": "white",
            "linecolor": "white",
            "ticks": ""
           },
           "baxis": {
            "gridcolor": "white",
            "linecolor": "white",
            "ticks": ""
           },
           "bgcolor": "#E5ECF6",
           "caxis": {
            "gridcolor": "white",
            "linecolor": "white",
            "ticks": ""
           }
          },
          "title": {
           "x": 0.05
          },
          "xaxis": {
           "automargin": true,
           "gridcolor": "white",
           "linecolor": "white",
           "ticks": "",
           "title": {
            "standoff": 15
           },
           "zerolinecolor": "white",
           "zerolinewidth": 2
          },
          "yaxis": {
           "automargin": true,
           "gridcolor": "white",
           "linecolor": "white",
           "ticks": "",
           "title": {
            "standoff": 15
           },
           "zerolinecolor": "white",
           "zerolinewidth": 2
          }
         }
        },
        "title": {
         "text": "World Map - Average Salary by Job Title"
        }
       }
      }
     },
     "metadata": {},
     "output_type": "display_data"
    }
   ],
   "source": [
    "fig = px.choropleth(\n",
    "    df.groupby([\"job_title\", \"employee_residence\"])[\"salary_in_usd\"]\n",
    "    .mean()\n",
    "    .reset_index(name=\"Average Salary\"),\n",
    "    locations=\"employee_residence\",\n",
    "    locationmode=\"country names\",\n",
    "    color=\"Average Salary\",\n",
    "    hover_name=\"employee_residence\",\n",
    "    color_continuous_scale=\"plasma\",\n",
    ")\n",
    "fig.update_geos(projection_type=\"natural earth\", showcoastlines=True)\n",
    "fig.update_layout(title_text=\"World Map - Average Salary by Job Title\")\n",
    "fig.show()"
   ]
  },
  {
   "cell_type": "markdown",
   "metadata": {},
   "source": [
    "## -----------------------------------------------\n",
    "## Top 5 Job Category"
   ]
  },
  {
   "cell_type": "code",
   "execution_count": 14,
   "metadata": {},
   "outputs": [
    {
     "name": "stdout",
     "output_type": "stream",
     "text": [
      "job_category\n",
      "Data Science and Research    3014\n",
      "Data Engineering             2260\n",
      "Data Analysis                1457\n",
      "Machine Learning and AI      1428\n",
      "Leadership and Management     503\n",
      "Name: count, dtype: int64\n"
     ]
    }
   ],
   "source": [
    "unique_job_categories = df[\"job_category\"].value_counts().head(5)\n",
    "print(unique_job_categories)"
   ]
  },
  {
   "cell_type": "code",
   "execution_count": 15,
   "metadata": {},
   "outputs": [
    {
     "data": {
      "text/plain": [
       "Text(0.5, 1.0, 'Top 5 Job Category')"
      ]
     },
     "execution_count": 15,
     "metadata": {},
     "output_type": "execute_result"
    },
    {
     "data": {
      "image/png": "[encoded data removed]",
      "text/plain": [
       "<Figure size 640x480 with 1 Axes>"
      ]
     },
     "metadata": {},
     "output_type": "display_data"
    }
   ],
   "source": [
    "sns.barplot(\n",
    "    data=df[\"job_category\"]\n",
    "    .value_counts()\n",
    "    .sort_values(ascending=False)\n",
    "    .reset_index(name=\"Salary\")\n",
    "    .head(5),\n",
    "    x=\"Salary\",\n",
    "    y=\"job_category\",\n",
    ")\n",
    "plt.title(\"Top 5 Job Category\")"
   ]
  },
  {
   "cell_type": "code",
   "execution_count": 16,
   "metadata": {},
   "outputs": [
    {
     "data": {
      "text/plain": [
       "job_category\n",
       "Machine Learning and AI           178925.847339\n",
       "Data Science and Research         163758.575979\n",
       "Data Architecture and Modeling    156002.359073\n",
       "Cloud and Database                155000.000000\n",
       "Data Engineering                  146197.656195\n",
       "Name: salary_in_usd, dtype: float64"
      ]
     },
     "execution_count": 16,
     "metadata": {},
     "output_type": "execute_result"
    }
   ],
   "source": [
    "average_salary_by_job_categories = (\n",
    "    df.groupby(\"job_category\")[\"salary_in_usd\"]\n",
    "    .mean()\n",
    "    .sort_values(ascending=False)\n",
    "    .head(5)\n",
    ")\n",
    "average_salary_by_job_categories"
   ]
  },
  {
   "cell_type": "code",
   "execution_count": 17,
   "metadata": {},
   "outputs": [
    {
     "data": {
      "text/plain": [
       "Text(0.5, 1.0, 'Top 5 average salary in USD by job category')"
      ]
     },
     "execution_count": 17,
     "metadata": {},
     "output_type": "execute_result"
    },
    {
     "data": {
      "image/png": "[encoded data removed]",
      "text/plain": [
       "<Figure size 640x480 with 1 Axes>"
      ]
     },
     "metadata": {},
     "output_type": "display_data"
    }
   ],
   "source": [
    "sns.barplot(\n",
    "    data=df.groupby(\"job_category\")[\"salary_in_usd\"]\n",
    "    .mean()\n",
    "    .sort_values(ascending=False)\n",
    "    .reset_index(name=\"Salary\")\n",
    "    .head(5),\n",
    "    x=\"Salary\",\n",
    "    y=\"job_category\",\n",
    ")\n",
    "plt.title(\"Top 5 average salary in USD by job category\")"
   ]
  },
  {
   "cell_type": "code",
   "execution_count": 18,
   "metadata": {},
   "outputs": [
    {
     "data": {
      "text/plain": [
       "job_category               employee_residence\n",
       "Machine Learning and AI    Qatar                 300000.0\n",
       "Leadership and Management  Russia                230000.0\n",
       "BI and Visualization       Nigeria               200000.0\n",
       "Leadership and Management  Malaysia              200000.0\n",
       "Machine Learning and AI    Australia             198068.1\n",
       "Name: salary_in_usd, dtype: float64"
      ]
     },
     "execution_count": 18,
     "metadata": {},
     "output_type": "execute_result"
    }
   ],
   "source": [
    "df.groupby([\"job_category\", \"employee_residence\"])[\"salary_in_usd\"].mean().sort_values(\n",
    "    ascending=False\n",
    ").head(5)"
   ]
  },
  {
   "cell_type": "code",
   "execution_count": 19,
   "metadata": {},
   "outputs": [
    {
     "data": {
      "application/vnd.plotly.v1+json": {
       "config": {
        "plotlyServerURL": "https://plot.ly"
       },
       "data": [
        {
         "coloraxis": "coloraxis",
         "geo": "geo",
         "hovertemplate": "<b>%{hovertext}</b><br><br>employee_residence=%{location}<br>Average Salary=%{z}<extra></extra>",
         "hovertext": [
          "Brazil",
          "Canada",
          "Ghana",
          "Nigeria",
          "Poland",
          "Turkey",
          "United Kingdom",
          "United States",
          "United States",
          "Argentina",
          "Armenia",
          "Australia",
          "Bulgaria",
          "Canada",
          "Central African Republic",
          "China",
          "Colombia",
          "Costa Rica",
          "Croatia",
          "Egypt",
          "Estonia",
          "France",
          "Georgia",
          "Germany",
          "Ghana",
          "Greece",
          "Honduras",
          "India",
          "Indonesia",
          "Kenya",
          "Kuwait",
          "Luxembourg",
          "Nigeria",
          "Philippines",
          "Poland",
          "Portugal",
          "Saudi Arabia",
          "Singapore",
          "Slovenia",
          "Spain",
          "Ukraine",
          "United Kingdom",
          "United States",
          "Uzbekistan",
          "Canada",
          "United Kingdom",
          "United States",
          "Argentina",
          "Australia",
          "Austria",
          "Brazil",
          "Canada",
          "Colombia",
          "Estonia",
          "France",
          "Germany",
          "Greece",
          "Hong Kong",
          "India",
          "Ireland",
          "Italy",
          "Lithuania",
          "Malta",
          "Mauritius",
          "Mexico",
          "Moldova",
          "Netherlands",
          "New Zealand",
          "Nigeria",
          "Pakistan",
          "Peru",
          "Poland",
          "Portugal",
          "Puerto Rico",
          "Romania",
          "Singapore",
          "Slovenia",
          "South Africa",
          "Spain",
          "Sweden",
          "Turkey",
          "United Kingdom",
          "United States",
          "Canada",
          "Chile",
          "Italy",
          "United States",
          "Portugal",
          "United Kingdom",
          "United States",
          "Algeria",
          "Andorra",
          "Argentina",
          "Australia",
          "Austria",
          "Belgium",
          "Brazil",
          "Canada",
          "Cyprus",
          "Czech Republic",
          "Dominican Republic",
          "Ecuador",
          "France",
          "Germany",
          "Greece",
          "India",
          "Ireland",
          "Italy",
          "Japan",
          "Jersey",
          "Kenya",
          "Latvia",
          "Mexico",
          "Netherlands",
          "Nigeria",
          "Pakistan",
          "Philippines",
          "Poland",
          "Portugal",
          "Romania",
          "Russia",
          "Saudi Arabia",
          "Serbia",
          "Singapore",
          "Spain",
          "Switzerland",
          "Tunisia",
          "Turkey",
          "United Arab Emirates",
          "United Kingdom",
          "United States",
          "Uzbekistan",
          "Argentina",
          "Belgium",
          "Brazil",
          "Canada",
          "Colombia",
          "Estonia",
          "Germany",
          "Malaysia",
          "Mexico",
          "Netherlands",
          "Nigeria",
          "Pakistan",
          "Portugal",
          "Russia",
          "Slovenia",
          "United Kingdom",
          "United States",
          "Vietnam",
          "American Samoa",
          "Armenia",
          "Australia",
          "Belgium",
          "Bolivia",
          "Bosnia and Herzegovina",
          "Brazil",
          "Canada",
          "Colombia",
          "Croatia",
          "Czech Republic",
          "Denmark",
          "Egypt",
          "Finland",
          "France",
          "Germany",
          "Ghana",
          "India",
          "Iran",
          "Iraq",
          "Ireland",
          "Italy",
          "Japan",
          "Latvia",
          "Lithuania",
          "Mexico",
          "Moldova",
          "Netherlands",
          "Nigeria",
          "Pakistan",
          "Poland",
          "Portugal",
          "Puerto Rico",
          "Qatar",
          "Romania",
          "Russia",
          "Slovenia",
          "South Korea",
          "Spain",
          "Sweden",
          "Switzerland",
          "Thailand",
          "Tunisia",
          "Turkey",
          "Uganda",
          "Ukraine",
          "United Arab Emirates",
          "United Kingdom",
          "United States",
          "Vietnam"
         ],
         "locationmode": "country names",
         "locations": [
          "Brazil",
          "Canada",
          "Ghana",
          "Nigeria",
          "Poland",
          "Turkey",
          "United Kingdom",
          "United States",
          "United States",
          "Argentina",
          "Armenia",
          "Australia",
          "Bulgaria",
          "Canada",
          "Central African Republic",
          "China",
          "Colombia",
          "Costa Rica",
          "Croatia",
          "Egypt",
          "Estonia",
          "France",
          "Georgia",
          "Germany",
          "Ghana",
          "Greece",
          "Honduras",
          "India",
          "Indonesia",
          "Kenya",
          "Kuwait",
          "Luxembourg",
          "Nigeria",
          "Philippines",
          "Poland",
          "Portugal",
          "Saudi Arabia",
          "Singapore",
          "Slovenia",
          "Spain",
          "Ukraine",
          "United Kingdom",
          "United States",
          "Uzbekistan",
          "Canada",
          "United Kingdom",
          "United States",
          "Argentina",
          "Australia",
          "Austria",
          "Brazil",
          "Canada",
          "Colombia",
          "Estonia",
          "France",
          "Germany",
          "Greece",
          "Hong Kong",
          "India",
          "Ireland",
          "Italy",
          "Lithuania",
          "Malta",
          "Mauritius",
          "Mexico",
          "Moldova",
          "Netherlands",
          "New Zealand",
          "Nigeria",
          "Pakistan",
          "Peru",
          "Poland",
          "Portugal",
          "Puerto Rico",
          "Romania",
          "Singapore",
          "Slovenia",
          "South Africa",
          "Spain",
          "Sweden",
          "Turkey",
          "United Kingdom",
          "United States",
          "Canada",
          "Chile",
          "Italy",
          "United States",
          "Portugal",
          "United Kingdom",
          "United States",
          "Algeria",
          "Andorra",
          "Argentina",
          "Australia",
          "Austria",
          "Belgium",
          "Brazil",
          "Canada",
          "Cyprus",
          "Czech Republic",
          "Dominican Republic",
          "Ecuador",
          "France",
          "Germany",
          "Greece",
          "India",
          "Ireland",
          "Italy",
          "Japan",
          "Jersey",
          "Kenya",
          "Latvia",
          "Mexico",
          "Netherlands",
          "Nigeria",
          "Pakistan",
          "Philippines",
          "Poland",
          "Portugal",
          "Romania",
          "Russia",
          "Saudi Arabia",
          "Serbia",
          "Singapore",
          "Spain",
          "Switzerland",
          "Tunisia",
          "Turkey",
          "United Arab Emirates",
          "United Kingdom",
          "United States",
          "Uzbekistan",
          "Argentina",
          "Belgium",
          "Brazil",
          "Canada",
          "Colombia",
          "Estonia",
          "Germany",
          "Malaysia",
          "Mexico",
          "Netherlands",
          "Nigeria",
          "Pakistan",
          "Portugal",
          "Russia",
          "Slovenia",
          "United Kingdom",
          "United States",
          "Vietnam",
          "American Samoa",
          "Armenia",
          "Australia",
          "Belgium",
          "Bolivia",
          "Bosnia and Herzegovina",
          "Brazil",
          "Canada",
          "Colombia",
          "Croatia",
          "Czech Republic",
          "Denmark",
          "Egypt",
          "Finland",
          "France",
          "Germany",
          "Ghana",
          "India",
          "Iran",
          "Iraq",
          "Ireland",
          "Italy",
          "Japan",
          "Latvia",
          "Lithuania",
          "Mexico",
          "Moldova",
          "Netherlands",
          "Nigeria",
          "Pakistan",
          "Poland",
          "Portugal",
          "Puerto Rico",
          "Qatar",
          "Romania",
          "Russia",
          "Slovenia",
          "South Korea",
          "Spain",
          "Sweden",
          "Switzerland",
          "Thailand",
          "Tunisia",
          "Turkey",
          "Uganda",
          "Ukraine",
          "United Arab Emirates",
          "United Kingdom",
          "United States",
          "Vietnam"
         ],
         "name": "",
         "type": "choropleth",
         "z": [
          63000,
          105444.66666666667,
          15000,
          200000,
          64781,
          18381,
          64749.666666666664,
          139120.5259515571,
          155000,
          46666.666666666664,
          17000,
          89589.2,
          80000,
          101520.14705882352,
          49216,
          125404,
          72000,
          20000,
          92280,
          70000,
          45130.333333333336,
          112640,
          57000,
          56703.857142857145,
          46000,
          45550,
          20000,
          76666.66666666667,
          15000,
          50000,
          50000,
          59102,
          36250,
          42500,
          69386.66666666667,
          42350.4,
          179998,
          65257,
          42647,
          44524.84210526316,
          25000,
          86678.96774193548,
          114055.70702179176,
          100000,
          120329,
          100389.26666666666,
          160575.81856540084,
          65000,
          75050,
          74130,
          82400,
          147251.8205128205,
          87750,
          50529,
          71424.7,
          90299.76923076923,
          64275.88888888889,
          66022,
          18000,
          102569,
          52670,
          94812,
          28369,
          100000,
          66000,
          18000,
          68755,
          125000,
          50000,
          55108.5,
          27000,
          58068.75,
          54193.142857142855,
          165000,
          51419,
          77049,
          62081,
          100492.5,
          72158.3448275862,
          130000,
          28016,
          90153.88524590163,
          154394.9467005076,
          100000,
          105000,
          68293,
          103968.05454545455,
          23753,
          76782,
          104349.8,
          100000,
          50745,
          60000,
          81548.6,
          70598.8,
          68030.5,
          64477.5,
          161158.85135135136,
          63701,
          69999,
          110000,
          16000,
          65681.42307692308,
          100354.10714285714,
          42683.666666666664,
          36000,
          118505.5,
          51323.142857142855,
          104000,
          100000,
          80000,
          58788.25,
          90000,
          81540.6,
          35333.333333333336,
          21000,
          76864,
          33609,
          38547,
          53984,
          46363.75,
          90000,
          25532,
          119059,
          56392.54098360656,
          115688,
          150000,
          26698.333333333332,
          115000,
          109657.46728971963,
          173418.13551579748,
          73000,
          48000,
          50000,
          87750,
          133425.14285714287,
          56500,
          31520,
          79197,
          200000,
          72000,
          85286.5,
          50000,
          20000,
          75577,
          230000,
          102839,
          144002.75675675675,
          148675.74943052392,
          50000,
          45555,
          50000,
          198068.1,
          129111.33333333333,
          75000,
          120000,
          27191.25,
          167245.93617021278,
          76711,
          40309,
          50000,
          31192.666666666668,
          22800,
          68961.5,
          105590.61538461539,
          116726.23529411765,
          30000,
          95739.85714285714,
          100000,
          100000,
          68293,
          58023.555555555555,
          167000,
          58302.5,
          100410,
          158666.66666666666,
          115000,
          74324,
          60000,
          40000,
          45481,
          66592.77777777778,
          167500,
          300000,
          38868,
          60000,
          24823,
          47000,
          52178.625,
          80000,
          80616.5,
          37500,
          30469,
          60000,
          36000,
          121333.33333333333,
          92500,
          138826.55172413794,
          192377.22638297873,
          38400
         ]
        }
       ],
       "layout": {
        "coloraxis": {
         "colorbar": {
          "title": {
           "text": "Average Salary"
          }
         },
         "colorscale": [
          [
           0,
           "#0d0887"
          ],
          [
           0.1111111111111111,
           "#46039f"
          ],
          [
           0.2222222222222222,
           "#7201a8"
          ],
          [
           0.3333333333333333,
           "#9c179e"
          ],
          [
           0.4444444444444444,
           "#bd3786"
          ],
          [
           0.5555555555555556,
           "#d8576b"
          ],
          [
           0.6666666666666666,
           "#ed7953"
          ],
          [
           0.7777777777777778,
           "#fb9f3a"
          ],
          [
           0.8888888888888888,
           "#fdca26"
          ],
          [
           1,
           "#f0f921"
          ]
         ]
        },
        "geo": {
         "center": {},
         "domain": {
          "x": [
           0,
           1
          ],
          "y": [
           0,
           1
          ]
         },
         "projection": {
          "type": "natural earth"
         },
         "showcoastlines": true
        },
        "legend": {
         "tracegroupgap": 0
        },
        "margin": {
         "t": 60
        },
        "template": {
         "data": {
          "bar": [
           {
            "error_x": {
             "color": "#2a3f5f"
            },
            "error_y": {
             "color": "#2a3f5f"
            },
            "marker": {
             "line": {
              "color": "#E5ECF6",
              "width": 0.5
             },
             "pattern": {
              "fillmode": "overlay",
              "size": 10,
              "solidity": 0.2
             }
            },
            "type": "bar"
           }
          ],
          "barpolar": [
           {
            "marker": {
             "line": {
              "color": "#E5ECF6",
              "width": 0.5
             },
             "pattern": {
              "fillmode": "overlay",
              "size": 10,
              "solidity": 0.2
             }
            },
            "type": "barpolar"
           }
          ],
          "carpet": [
           {
            "aaxis": {
             "endlinecolor": "#2a3f5f",
             "gridcolor": "white",
             "linecolor": "white",
             "minorgridcolor": "white",
             "startlinecolor": "#2a3f5f"
            },
            "baxis": {
             "endlinecolor": "#2a3f5f",
             "gridcolor": "white",
             "linecolor": "white",
             "minorgridcolor": "white",
             "startlinecolor": "#2a3f5f"
            },
            "type": "carpet"
           }
          ],
          "choropleth": [
           {
            "colorbar": {
             "outlinewidth": 0,
             "ticks": ""
            },
            "type": "choropleth"
           }
          ],
          "contour": [
           {
            "colorbar": {
             "outlinewidth": 0,
             "ticks": ""
            },
            "colorscale": [
             [
              0,
              "#0d0887"
             ],
             [
              0.1111111111111111,
              "#46039f"
             ],
             [
              0.2222222222222222,
              "#7201a8"
             ],
             [
              0.3333333333333333,
              "#9c179e"
             ],
             [
              0.4444444444444444,
              "#bd3786"
             ],
             [
              0.5555555555555556,
              "#d8576b"
             ],
             [
              0.6666666666666666,
              "#ed7953"
             ],
             [
              0.7777777777777778,
              "#fb9f3a"
             ],
             [
              0.8888888888888888,
              "#fdca26"
             ],
             [
              1,
              "#f0f921"
             ]
            ],
            "type": "contour"
           }
          ],
          "contourcarpet": [
           {
            "colorbar": {
             "outlinewidth": 0,
             "ticks": ""
            },
            "type": "contourcarpet"
           }
          ],
          "heatmap": [
           {
            "colorbar": {
             "outlinewidth": 0,
             "ticks": ""
            },
            "colorscale": [
             [
              0,
              "#0d0887"
             ],
             [
              0.1111111111111111,
              "#46039f"
             ],
             [
              0.2222222222222222,
              "#7201a8"
             ],
             [
              0.3333333333333333,
              "#9c179e"
             ],
             [
              0.4444444444444444,
              "#bd3786"
             ],
             [
              0.5555555555555556,
              "#d8576b"
             ],
             [
              0.6666666666666666,
              "#ed7953"
             ],
             [
              0.7777777777777778,
              "#fb9f3a"
             ],
             [
              0.8888888888888888,
              "#fdca26"
             ],
             [
              1,
              "#f0f921"
             ]
            ],
            "type": "heatmap"
           }
          ],
          "heatmapgl": [
           {
            "colorbar": {
             "outlinewidth": 0,
             "ticks": ""
            },
            "colorscale": [
             [
              0,
              "#0d0887"
             ],
             [
              0.1111111111111111,
              "#46039f"
             ],
             [
              0.2222222222222222,
              "#7201a8"
             ],
             [
              0.3333333333333333,
              "#9c179e"
             ],
             [
              0.4444444444444444,
              "#bd3786"
             ],
             [
              0.5555555555555556,
              "#d8576b"
             ],
             [
              0.6666666666666666,
              "#ed7953"
             ],
             [
              0.7777777777777778,
              "#fb9f3a"
             ],
             [
              0.8888888888888888,
              "#fdca26"
             ],
             [
              1,
              "#f0f921"
             ]
            ],
            "type": "heatmapgl"
           }
          ],
          "histogram": [
           {
            "marker": {
             "pattern": {
              "fillmode": "overlay",
              "size": 10,
              "solidity": 0.2
             }
            },
            "type": "histogram"
           }
          ],
          "histogram2d": [
           {
            "colorbar": {
             "outlinewidth": 0,
             "ticks": ""
            },
            "colorscale": [
             [
              0,
              "#0d0887"
             ],
             [
              0.1111111111111111,
              "#46039f"
             ],
             [
              0.2222222222222222,
              "#7201a8"
             ],
             [
              0.3333333333333333,
              "#9c179e"
             ],
             [
              0.4444444444444444,
              "#bd3786"
             ],
             [
              0.5555555555555556,
              "#d8576b"
             ],
             [
              0.6666666666666666,
              "#ed7953"
             ],
             [
              0.7777777777777778,
              "#fb9f3a"
             ],
             [
              0.8888888888888888,
              "#fdca26"
             ],
             [
              1,
              "#f0f921"
             ]
            ],
            "type": "histogram2d"
           }
          ],
          "histogram2dcontour": [
           {
            "colorbar": {
             "outlinewidth": 0,
             "ticks": ""
            },
            "colorscale": [
             [
              0,
              "#0d0887"
             ],
             [
              0.1111111111111111,
              "#46039f"
             ],
             [
              0.2222222222222222,
              "#7201a8"
             ],
             [
              0.3333333333333333,
              "#9c179e"
             ],
             [
              0.4444444444444444,
              "#bd3786"
             ],
             [
              0.5555555555555556,
              "#d8576b"
             ],
             [
              0.6666666666666666,
              "#ed7953"
             ],
             [
              0.7777777777777778,
              "#fb9f3a"
             ],
             [
              0.8888888888888888,
              "#fdca26"
             ],
             [
              1,
              "#f0f921"
             ]
            ],
            "type": "histogram2dcontour"
           }
          ],
          "mesh3d": [
           {
            "colorbar": {
             "outlinewidth": 0,
             "ticks": ""
            },
            "type": "mesh3d"
           }
          ],
          "parcoords": [
           {
            "line": {
             "colorbar": {
              "outlinewidth": 0,
              "ticks": ""
             }
            },
            "type": "parcoords"
           }
          ],
          "pie": [
           {
            "automargin": true,
            "type": "pie"
           }
          ],
          "scatter": [
           {
            "fillpattern": {
             "fillmode": "overlay",
             "size": 10,
             "solidity": 0.2
            },
            "type": "scatter"
           }
          ],
          "scatter3d": [
           {
            "line": {
             "colorbar": {
              "outlinewidth": 0,
              "ticks": ""
             }
            },
            "marker": {
             "colorbar": {
              "outlinewidth": 0,
              "ticks": ""
             }
            },
            "type": "scatter3d"
           }
          ],
          "scattercarpet": [
           {
            "marker": {
             "colorbar": {
              "outlinewidth": 0,
              "ticks": ""
             }
            },
            "type": "scattercarpet"
           }
          ],
          "scattergeo": [
           {
            "marker": {
             "colorbar": {
              "outlinewidth": 0,
              "ticks": ""
             }
            },
            "type": "scattergeo"
           }
          ],
          "scattergl": [
           {
            "marker": {
             "colorbar": {
              "outlinewidth": 0,
              "ticks": ""
             }
            },
            "type": "scattergl"
           }
          ],
          "scattermapbox": [
           {
            "marker": {
             "colorbar": {
              "outlinewidth": 0,
              "ticks": ""
             }
            },
            "type": "scattermapbox"
           }
          ],
          "scatterpolar": [
           {
            "marker": {
             "colorbar": {
              "outlinewidth": 0,
              "ticks": ""
             }
            },
            "type": "scatterpolar"
           }
          ],
          "scatterpolargl": [
           {
            "marker": {
             "colorbar": {
              "outlinewidth": 0,
              "ticks": ""
             }
            },
            "type": "scatterpolargl"
           }
          ],
          "scatterternary": [
           {
            "marker": {
             "colorbar": {
              "outlinewidth": 0,
              "ticks": ""
             }
            },
            "type": "scatterternary"
           }
          ],
          "surface": [
           {
            "colorbar": {
             "outlinewidth": 0,
             "ticks": ""
            },
            "colorscale": [
             [
              0,
              "#0d0887"
             ],
             [
              0.1111111111111111,
              "#46039f"
             ],
             [
              0.2222222222222222,
              "#7201a8"
             ],
             [
              0.3333333333333333,
              "#9c179e"
             ],
             [
              0.4444444444444444,
              "#bd3786"
             ],
             [
              0.5555555555555556,
              "#d8576b"
             ],
             [
              0.6666666666666666,
              "#ed7953"
             ],
             [
              0.7777777777777778,
              "#fb9f3a"
             ],
             [
              0.8888888888888888,
              "#fdca26"
             ],
             [
              1,
              "#f0f921"
             ]
            ],
            "type": "surface"
           }
          ],
          "table": [
           {
            "cells": {
             "fill": {
              "color": "#EBF0F8"
             },
             "line": {
              "color": "white"
             }
            },
            "header": {
             "fill": {
              "color": "#C8D4E3"
             },
             "line": {
              "color": "white"
             }
            },
            "type": "table"
           }
          ]
         },
         "layout": {
          "annotationdefaults": {
           "arrowcolor": "#2a3f5f",
           "arrowhead": 0,
           "arrowwidth": 1
          },
          "autotypenumbers": "strict",
          "coloraxis": {
           "colorbar": {
            "outlinewidth": 0,
            "ticks": ""
           }
          },
          "colorscale": {
           "diverging": [
            [
             0,
             "#8e0152"
            ],
            [
             0.1,
             "#c51b7d"
            ],
            [
             0.2,
             "#de77ae"
            ],
            [
             0.3,
             "#f1b6da"
            ],
            [
             0.4,
             "#fde0ef"
            ],
            [
             0.5,
             "#f7f7f7"
            ],
            [
             0.6,
             "#e6f5d0"
            ],
            [
             0.7,
             "#b8e186"
            ],
            [
             0.8,
             "#7fbc41"
            ],
            [
             0.9,
             "#4d9221"
            ],
            [
             1,
             "#276419"
            ]
           ],
           "sequential": [
            [
             0,
             "#0d0887"
            ],
            [
             0.1111111111111111,
             "#46039f"
            ],
            [
             0.2222222222222222,
             "#7201a8"
            ],
            [
             0.3333333333333333,
             "#9c179e"
            ],
            [
             0.4444444444444444,
             "#bd3786"
            ],
            [
             0.5555555555555556,
             "#d8576b"
            ],
            [
             0.6666666666666666,
             "#ed7953"
            ],
            [
             0.7777777777777778,
             "#fb9f3a"
            ],
            [
             0.8888888888888888,
             "#fdca26"
            ],
            [
             1,
             "#f0f921"
            ]
           ],
           "sequentialminus": [
            [
             0,
             "#0d0887"
            ],
            [
             0.1111111111111111,
             "#46039f"
            ],
            [
             0.2222222222222222,
             "#7201a8"
            ],
            [
             0.3333333333333333,
             "#9c179e"
            ],
            [
             0.4444444444444444,
             "#bd3786"
            ],
            [
             0.5555555555555556,
             "#d8576b"
            ],
            [
             0.6666666666666666,
             "#ed7953"
            ],
            [
             0.7777777777777778,
             "#fb9f3a"
            ],
            [
             0.8888888888888888,
             "#fdca26"
            ],
            [
             1,
             "#f0f921"
            ]
           ]
          },
          "colorway": [
           "#636efa",
           "#EF553B",
           "#00cc96",
           "#ab63fa",
           "#FFA15A",
           "#19d3f3",
           "#FF6692",
           "#B6E880",
           "#FF97FF",
           "#FECB52"
          ],
          "font": {
           "color": "#2a3f5f"
          },
          "geo": {
           "bgcolor": "white",
           "lakecolor": "white",
           "landcolor": "#E5ECF6",
           "showlakes": true,
           "showland": true,
           "subunitcolor": "white"
          },
          "hoverlabel": {
           "align": "left"
          },
          "hovermode": "closest",
          "mapbox": {
           "style": "light"
          },
          "paper_bgcolor": "white",
          "plot_bgcolor": "#E5ECF6",
          "polar": {
           "angularaxis": {
            "gridcolor": "white",
            "linecolor": "white",
            "ticks": ""
           },
           "bgcolor": "#E5ECF6",
           "radialaxis": {
            "gridcolor": "white",
            "linecolor": "white",
            "ticks": ""
           }
          },
          "scene": {
           "xaxis": {
            "backgroundcolor": "#E5ECF6",
            "gridcolor": "white",
            "gridwidth": 2,
            "linecolor": "white",
            "showbackground": true,
            "ticks": "",
            "zerolinecolor": "white"
           },
           "yaxis": {
            "backgroundcolor": "#E5ECF6",
            "gridcolor": "white",
            "gridwidth": 2,
            "linecolor": "white",
            "showbackground": true,
            "ticks": "",
            "zerolinecolor": "white"
           },
           "zaxis": {
            "backgroundcolor": "#E5ECF6",
            "gridcolor": "white",
            "gridwidth": 2,
            "linecolor": "white",
            "showbackground": true,
            "ticks": "",
            "zerolinecolor": "white"
           }
          },
          "shapedefaults": {
           "line": {
            "color": "#2a3f5f"
           }
          },
          "ternary": {
           "aaxis": {
            "gridcolor": "white",
            "linecolor": "white",
            "ticks": ""
           },
           "baxis": {
            "gridcolor": "white",
            "linecolor": "white",
            "ticks": ""
           },
           "bgcolor": "#E5ECF6",
           "caxis": {
            "gridcolor": "white",
            "linecolor": "white",
            "ticks": ""
           }
          },
          "title": {
           "x": 0.05
          },
          "xaxis": {
           "automargin": true,
           "gridcolor": "white",
           "linecolor": "white",
           "ticks": "",
           "title": {
            "standoff": 15
           },
           "zerolinecolor": "white",
           "zerolinewidth": 2
          },
          "yaxis": {
           "automargin": true,
           "gridcolor": "white",
           "linecolor": "white",
           "ticks": "",
           "title": {
            "standoff": 15
           },
           "zerolinecolor": "white",
           "zerolinewidth": 2
          }
         }
        },
        "title": {
         "text": "World Map - Average Salary by Job Category"
        }
       }
      }
     },
     "metadata": {},
     "output_type": "display_data"
    }
   ],
   "source": [
    "fig = px.choropleth(\n",
    "    df.groupby([\"job_category\", \"employee_residence\"])[\"salary_in_usd\"]\n",
    "    .mean()\n",
    "    .reset_index(name=\"Average Salary\"),\n",
    "    locations=\"employee_residence\",\n",
    "    locationmode=\"country names\",\n",
    "    color=\"Average Salary\",\n",
    "    hover_name=\"employee_residence\",\n",
    "    color_continuous_scale=\"plasma\",\n",
    ")\n",
    "fig.update_geos(projection_type=\"natural earth\", showcoastlines=True)\n",
    "fig.update_layout(title_text=\"World Map - Average Salary by Job Category\")\n",
    "fig.show()"
   ]
  }
 ],
 "metadata": {
  "kernelspec": {
   "display_name": "latihan",
   "language": "python",
   "name": "python3"
  },
  "language_info": {
   "codemirror_mode": {
    "name": "ipython",
    "version": 3
   },
   "file_extension": ".py",
   "mimetype": "text/x-python",
   "name": "python",
   "nbconvert_exporter": "python",
   "pygments_lexer": "ipython3",
   "version": "3.10.13"
  }
 },
 "nbformat": 4,
 "nbformat_minor": 2
}
